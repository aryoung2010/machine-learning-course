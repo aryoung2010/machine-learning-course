{
 "cells": [
  {
   "cell_type": "markdown",
   "metadata": {},
   "source": [
    "# The Cost to Live \n",
    "## A National Picture on Insulin Prices for Medicare Patients\n",
    "\n",
    "### By Allison  Young\n",
    "## 1/23/2019\n",
    "\n",
    "Can you imagine if you had to pay a tax to breathe the oxygen we need in order to live?\n",
    "\n",
    "Imagine if this tax was assigned randomly, to 1 out of every 10 Americans, and you are one of the unfortunate lottery winners designated as an \"oxygen tax payer\", and you have to pay $100 a month , or they will take away your oxygen (please bear with me in suspending reality a bit for this analogy).\n",
    "\n",
    "Could you afford to breathe? Maybe? How about if you learned this tax was also increasing? Now, you have to pay $500 a month. \n",
    "\n",
    "Most people could not afford this fictional tax. As the chart below, from Data USA, demonstrates, while the mean income in Durham, NC may be more than $50,000 a year, the majority of residents make less $40k a year(1). "
   ]
  },
  {
   "cell_type": "code",
   "execution_count": 6,
   "metadata": {},
   "outputs": [
    {
     "data": {
      "text/html": [
       "<iframe width=\"720px\" height=\"480px\" src=\"https://embed.datausa.io/profile/geo/durham-nc/economy/income_distro?\" frameborder=\"0\" ></iframe>"
      ],
      "text/plain": [
       "<IPython.core.display.HTML object>"
      ]
     },
     "metadata": {},
     "output_type": "display_data"
    }
   ],
   "source": [
    "from IPython.core.display import display, HTML\n",
    "display(HTML('<iframe width=\"720px\" height=\"480px\" src=\"https://embed.datausa.io/profile/geo/durham-nc/economy/income_distro?\" frameborder=\"0\" ></iframe>'))"
   ]
  },
  {
   "cell_type": "markdown",
   "metadata": {},
   "source": [
    "Because we can't have people just passing out on the street, we will say you can get get assistance to pay this unreasonable tax.  \n",
    "\n",
    "But there is a catch! In order to receive assistance, you have to continually fill out paperwork every month, and have providers sign a piece of paper that affirms that yes, indeed, you still need oxygen to live. And you still have to pay $50 a month. \n",
    " \n",
    "If this doesn't sound fair, I agree with you; but, this burden is a reality for 1 in 10 Americans. This fictional analogy is not so different from the challenge individuals who have won the unfortunate genetic lottery and have a Diabetes diagnosis face when trying to get insulin, a diabetic's oxygen. \n",
    "\n",
    "Individuals with Diabetes are not able to regulate their blood sugar, and rely on daily injections of insulin to live. In type II Diabetes, there are some lifestyle factors which may increase one's risk of developing the disease. However, those with Type I Diabetes,also known as Juvenile Diabetes, are born with this condition. \n",
    "\n",
    "In the United States, there are approximately 1.25 million people in the United States with Type I Diabetes. My partner is one of them. She struggles regularly to balance wanting to maintain her independance as a productive member of society, and being able to afford her medications. She has to work to pay for her healthcare, but working also makes her health worse. But if she wants to exit this cycle, she would need to apply for disability support. On disability support, she would no longer be allowed to work at any job that would pay her more than $14,000 a year, thus sacrificing any semblance of financial independance (3). \n",
    "\n",
    "\n",
    "*Seeing my partner struggle to manage the financial cost of her disease, prompted me to wonder- how much is the US Government paying for these individuals who are unable to afford the sky-rocketing expenses of insulin?* \n",
    "\n",
    "This brought me to the following research question:\n",
    "\n",
    "## How does the cost-burden of insulin compare to other common drugs utilized by a similar population of Medicare patients?\n",
    "\n",
    "To answer this question, I examined **prescribed drug data for Medicaid D patients**, made available by the Centers for Medicare and Medicaid Services (CMS)(4). The data set I used is from 2014.\n",
    "\n",
    "For this initial exploration, I used a dataset available at the drug-name level. In future analyses, I could use what I learn to develop more detailed research questions regarding North Carolina Residents and look at the full data set by the prescriber. However, this dataset is extremely large, with more than a million records. \n",
    "\n",
    "Therefore, an initial proof of concept is a good place to start, to understand big-picture themes that can guide further digging.\n"
   ]
  },
  {
   "cell_type": "code",
   "execution_count": null,
   "metadata": {
    "collapsed": true
   },
   "outputs": [],
   "source": []
  },
  {
   "attachments": {},
   "cell_type": "markdown",
   "metadata": {},
   "source": [
    "#### The Dataset.\n",
    "\n",
    "There are **3,266 different medications** in this dataset.\n",
    "For each drug, the dataset includes information on the following:\n",
    "* Drug Name\n",
    "* Generic Name\n",
    "* Number of Prescribers \n",
    "* Number of Medicare Part D Claims \n",
    "* Number of Standardized 30-Day Part D Fills \n",
    "* Aggregate Cost Paid for Part D Claims\n",
    "* Number of Medicare Beneficiaries \n",
    "* Number of Medicare Part D Claims for Beneficiaries 65+ \n",
    "* Number of Standardized 30-Day Part D Fills for Beneficiaries 65+ \n",
    "* Aggregate Cost Paid for Part D Claims for Beneficiaries 65+\n",
    "* Number of Medicare Beneficiaries 65+ \n",
    "* Aggregate Cost Share for Beneficiaries with Low Income Subsidy \n",
    "* Aggregate Cost Share for Beneficiaries with No Low Income Subsidy \n",
    "\n",
    "There are also fields to give information on the size of data, and if certain measures have been **supressed**, including:\n",
    "\n",
    "* Beneficiary 65+ Suppression Flag \n",
    "* GE65 Suppression Flag \n",
    "\n",
    "Finally, the data have four **\"Flags\"** used to help group the types of drugs.\n",
    "\n",
    "* Opioid Drug Flag \n",
    "* Long-Acting Opioid Drug Flag \n",
    "* Antibiotic Drug Flag \n",
    "* Antipsychotic Drug Flag \n",
    "\n",
    "*In this comparison, I will look specifically at a group of diabetes-related drugs (self-defined), as compared to the drug set flaged by the Opioid Drug Flags and Antipsychotic Drug Flags.*\n",
    "\n",
    "#### Data Cleaning\n",
    "\n",
    "As these data are maintained and cleaned by a large government agency, they are relatively complete and clean. However, it will be important to keep in mind the fields that may be supressed when looking at specific subgroups. Providers with fewer than 11 claims are entirely excluded from both this dataset, and the detailed dataset.\n",
    "\n",
    "Additional fields are also included in the full dataset, as described in the CMS methodology documentation(5). Further investigation would need to take these into account, as the risk of suppression is much greater as the geography shrinks.\n",
    "\n",
    "#### Data Transformations\n",
    "\n",
    "In order to perform this analysis, it is necessary to create a user-defined variable of \"Diabetes Drug Flag\" to compare insulin drugs as a group to that of Opioids.\n",
    "\n",
    "To do this, I used a reference website to identify the most common drug names for insulin product, and used the generic name field to identify additional insulin related records.\n",
    "\n",
    "The most common insulin drugs used include:\n",
    "* Humalog\n",
    "* Novolog\n",
    "* Apidra\n",
    "* Novolin\n",
    "* Velosulin\n",
    "* Basaglar\n",
    "* Lantus\n",
    "* Toujeo\n",
    "* Levemir\n",
    "* Degludec\n",
    "\n",
    "Using the generic drug field, I included the generic versions of these drugs, as well as other necessary products, such as syringes, and flexpens.\n",
    "\n",
    "#### Data Context\n",
    "\n",
    "There are **96** Drugs flagged as \"Opioid Drugs\", and of these, **25** are flagged as \"Long-lasting Opioid drugs\". \n",
    "\n",
    "Using the flag I developed, there are **75** Diabetes related drugs and products.\n",
    "\n",
    "## In 2014, the cost for diabetes medications and products cost more than twice as much as those for opioids.\n",
    "\n",
    "* Insert Image of table\n",
    "\n",
    "## Looking both at Diabetes medications and Opioid medications, Opioids make up a greater cost burden of Low Income Beneficiaries\n",
    "\n",
    "* Insert image of low income and opioid\n",
    "* Insert image of low income and diabetes\n",
    "\n",
    "\n",
    "\n",
    "## Conclusions\n",
    "\n",
    "Initial exploration says that while the cost burden for low income beneficiaries is higher for individual opioid drugs, the group of diabetes drugs is greater overall.\n",
    "\n",
    "\n",
    "There is still much more to do with this data, and further exploration into geographic patterns, individual patient loads, and different subgroups would be my next step. I would bet if data were considered for patients younger than 65 (those on Medicare), one may get different results."
   ]
  },
  {
   "cell_type": "markdown",
   "metadata": {},
   "source": [
    "Sources:\n",
    "\n",
    "1. https://datausa.io/profile/geo/durham-nc/#economy\n",
    "2. http://www.diabetes.org/diabetes-basics/statistics/\n",
    "3. https://www.disability-benefits-help.org/faq/how-much-to-earn-to-qualify\n",
    "4. https://www.cms.gov/Research-Statistics-Data-and-Systems/Research-Statistics-Data-and-Systems.html"
   ]
  },
  {
   "cell_type": "code",
   "execution_count": null,
   "metadata": {},
   "outputs": [],
   "source": []
  }
 ],
 "metadata": {
  "kernelspec": {
   "display_name": "Python 3",
   "language": "python",
   "name": "python3"
  },
  "language_info": {
   "codemirror_mode": {
    "name": "ipython",
    "version": 3
   },
   "file_extension": ".py",
   "mimetype": "text/x-python",
   "name": "python",
   "nbconvert_exporter": "python",
   "pygments_lexer": "ipython3",
   "version": "3.7.0"
  }
 },
 "nbformat": 4,
 "nbformat_minor": 2
}
