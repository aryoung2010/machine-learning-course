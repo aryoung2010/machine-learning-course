{
 "cells": [
  {
   "cell_type": "markdown",
   "metadata": {},
   "source": [
    "# Assignment 5 - Reinforcement Learning\n",
    "\n",
    "## *Allison Young*\n",
    "Netid:  *ary13*"
   ]
  },
  {
   "cell_type": "markdown",
   "metadata": {},
   "source": [
    "###### Credit/Classmate Help Disclosure:\n",
    "I completed questions one and two on my own prior to getting support from a classmate. With scheduling conflicts for office hours last week, I received support from classmates on question 3. However, I also wound up re-doing question 2 so the concepts would match and work together, and because I was unsuccessful in fixing the bugs for my original work. "
   ]
  },
  {
   "cell_type": "markdown",
   "metadata": {},
   "source": [
    "### Blackjack\n",
    "\n",
    "Your goal is to develop a reinforcement learning technique to learn the optimal policy for winning at blackjack. Here, we're going to modify the rules from traditional blackjack a bit in a way that corresponds to the game presented in Sutton and Barto's *Reinforcement Learning: An Introduction* (Chapter 5, example 5.1). A full implementation of the game is provided and usage examples are detailed in the class header below.\n",
    "\n",
    "The rules of this modified version of the game of blackjack are as follows:\n",
    "\n",
    "- Blackjack is a card game where the goal is to obtain cards that sum to as near as possible to 21 without going over.  We're playing against a fixed (autonomous) dealer.\n",
    "- Face cards (Jack, Queen, King) have point value 10. Aces can either count as 11 or 1, and we're refer to it as 'usable' at 11 (indicating that it could be used as a '1' if need be. This game is placed with a deck of cards sampled with replacement.\n",
    "- The game starts with each (player and dealer) having one face up and one face down card.\n",
    "- The player can request additional cards (hit, or action '1') until they decide to stop (stay, action '0') or exceed 21 (bust, the game ends and player loses).\n",
    "- After the player stays, the dealer reveals their facedown card, and draws until their sum is 17 or greater. If the dealer goes bust the player wins. If neither player nor dealer busts, the outcome (win, lose, draw) is decided by whose sum is closer to 21.  The reward for winning is +1, drawing is 0, and losing is -1.\n",
    "\n",
    "\n",
    "\n",
    "You will accomplish three things:\n",
    "1. Try your hand at this game of blackjack and see what your human reinforcement learning system is able to achieve\n",
    "2. Evaluate a simple policy using Monte Carlo policy evaluation\n",
    "3. Determine an optimal policy using Monte Carlo control\n",
    "\n",
    "*This problem is adapted from David Silver's [excellent series on Reinforcement Learning](http://www0.cs.ucl.ac.uk/staff/d.silver/web/Teaching.html) at University College London*"
   ]
  },
  {
   "cell_type": "markdown",
   "metadata": {},
   "source": [
    "## 1\n",
    "\n",
    "### [10 points] Human reinforcement learning \n",
    "\n",
    "Using the code detailed below, play 50 hands of blackjack, and record your overall average reward. This will help you get accustomed with how the game works, the data structures involved with representing states, and what strategies are most effective."
   ]
  },
  {
   "cell_type": "code",
   "execution_count": 1,
   "metadata": {},
   "outputs": [
    {
     "name": "stdout",
     "output_type": "stream",
     "text": [
      "cell has run\n"
     ]
    }
   ],
   "source": [
    "import numpy as np\n",
    "\n",
    "class Blackjack():\n",
    "    \"\"\"Simple blackjack environment adapted from OpenAI Gym:\n",
    "        https://github.com/openai/gym/blob/master/gym/envs/toy_text/blackjack.py\n",
    "    \n",
    "    Blackjack is a card game where the goal is to obtain cards that sum to as\n",
    "    near as possible to 21 without going over.  They're playing against a fixed\n",
    "    dealer.\n",
    "    \n",
    "    Face cards (Jack, Queen, King) have point value 10.\n",
    "    Aces can either count as 11 or 1, and it's called 'usable' at 11.\n",
    "    This game is placed with a deck sampled with replacement.\n",
    "    \n",
    "    The game starts with each (player and dealer) having one face up and one\n",
    "    face down card.\n",
    "    \n",
    "    The player can request additional cards (hit = 1) until they decide to stop\n",
    "    (stay = 0) or exceed 21 (bust).\n",
    "    \n",
    "    After the player stays, the dealer reveals their facedown card, and draws\n",
    "    until their sum is 17 or greater.  If the dealer goes bust the player wins.\n",
    "    If neither player nor dealer busts, the outcome (win, lose, draw) is\n",
    "    decided by whose sum is closer to 21.  The reward for winning is +1,\n",
    "    drawing is 0, and losing is -1.\n",
    "    \n",
    "    The observation is a 3-tuple of: the players current sum,\n",
    "    the dealer's one showing card (1-10 where 1 is ace),\n",
    "    and whether or not the player holds a usable ace (0 or 1).\n",
    "    \n",
    "    This environment corresponds to the version of the blackjack problem\n",
    "    described in Example 5.1 in Reinforcement Learning: An Introduction\n",
    "    by Sutton and Barto (1998).\n",
    "    \n",
    "    http://incompleteideas.net/sutton/book/the-book.html\n",
    "    \n",
    "    Usage: \n",
    "        Initialize the class:\n",
    "            game = Blackjack()\n",
    "        \n",
    "        Deal the cards:\n",
    "            game.deal()\n",
    "            \n",
    "             (14, 3, False)\n",
    "             \n",
    "            This is the agent's observation of the state of the game:\n",
    "            The first value is the sum of cards in your hand (14 in this case)\n",
    "            The second is the visible card in the dealer's hand (3 in this case)\n",
    "            The Boolean is a flag (False in this case) to indicate whether or \n",
    "                not you have a usable Ace\n",
    "            (Note: if you have a usable ace, the sum will treat the ace as a \n",
    "                value of '11' - this is the case if this Boolean flag is \"true\")\n",
    "            \n",
    "        Take an action: Hit (1) or stay (0)\n",
    "        \n",
    "            Take a hit: game.step(1)\n",
    "            To Stay:    game.step(0)\n",
    "            \n",
    "        The output summarizes the game status:\n",
    "            \n",
    "            ((15, 3, False), 0, False)\n",
    "            \n",
    "            The first tuple (15, 3, False), is the agent's observation of the\n",
    "            state of the game as described above.\n",
    "            The second value (0) indicates the rewards\n",
    "            The third value (False) indicates whether the game is finished\n",
    "    \"\"\"\n",
    "    \n",
    "    def __init__(self):\n",
    "        # 1 = Ace, 2-10 = Number cards, Jack/Queen/King = 10\n",
    "        self.deck   = [1, 2, 3, 4, 5, 6, 7, 8, 9, 10, 10, 10, 10]\n",
    "        self.dealer = []\n",
    "        self.player = []\n",
    "        self.deal()\n",
    "\n",
    "    def step(self, action):\n",
    "        if action == 1:  # hit: add a card to players hand and return\n",
    "            self.player.append(self.draw_card())\n",
    "            if self.is_bust(self.player):\n",
    "                done = True\n",
    "                reward = -1\n",
    "            else:\n",
    "                done = False\n",
    "                reward = 0\n",
    "        else:  # stay: play out the dealers hand, and score\n",
    "            done = True\n",
    "            while self.sum_hand(self.dealer) < 17:\n",
    "                self.dealer.append(self.draw_card())\n",
    "            reward = self.cmp(self.score(self.player), self.score(self.dealer))\n",
    "        return self._get_obs(), reward, done\n",
    "\n",
    "    def _get_obs(self):\n",
    "        return (self.sum_hand(self.player), self.dealer[0], self.usable_ace(self.player))\n",
    "\n",
    "    def deal(self):\n",
    "        self.dealer = self.draw_hand()\n",
    "        self.player = self.draw_hand()\n",
    "        return self._get_obs()\n",
    "    \n",
    "    #------------------------------------------\n",
    "    # Other helper functions\n",
    "    #------------------------------------------\n",
    "    def cmp(self, a, b):\n",
    "        return float(a > b) - float(a < b)\n",
    "    \n",
    "    def draw_card(self):\n",
    "        return int(np.random.choice(self.deck))\n",
    "    \n",
    "    def draw_hand(self):\n",
    "        return [self.draw_card(), self.draw_card()]\n",
    "    \n",
    "    def usable_ace(self,hand):  # Does this hand have a usable ace?\n",
    "        return 1 in hand and sum(hand) + 10 <= 21\n",
    "    \n",
    "    def sum_hand(self,hand):  # Return current hand total\n",
    "        if self.usable_ace(hand):\n",
    "            return sum(hand) + 10\n",
    "        return sum(hand)\n",
    "    \n",
    "    def is_bust(self,hand):  # Is this hand a bust?\n",
    "        return self.sum_hand(hand) > 21\n",
    "    \n",
    "    def score(self,hand):  # What is the score of this hand (0 if bust)\n",
    "        return 0 if self.is_bust(hand) else self.sum_hand(hand)\n",
    "    \n",
    "print(\"cell has run\")"
   ]
  },
  {
   "cell_type": "markdown",
   "metadata": {},
   "source": [
    "Here's an example of how it works to get you started:"
   ]
  },
  {
   "cell_type": "code",
   "execution_count": 37,
   "metadata": {},
   "outputs": [
    {
     "name": "stdout",
     "output_type": "stream",
     "text": [
      "(17, 4, True)\n",
      "((17, 4, False), 0, False)\n"
     ]
    }
   ],
   "source": [
    "import numpy as np\n",
    "\n",
    "# Initialize the class:\n",
    "game = Blackjack()\n",
    "\n",
    "# Deal the cards:\n",
    "#s0 = game.deal()\n",
    "#print(s0)\n",
    "\n",
    "# Take an action: Hit = 1 or stay = 0. Here's a hit:\n",
    "#s1 = game.step(1)\n",
    "#print(s1)\n",
    "\n",
    "# If you wanted to stay:\n",
    "# game.step(2)\n",
    "\n",
    "# When it's gameover, just redeal:\n",
    "# game.deal()\n",
    "\n",
    "#The output summarizes the game status:\n",
    "            \n",
    " #           ((15, 3, False), 0, False)\n",
    "            \n",
    "  #          The first tuple (15, 3, False), is the agent's observation of the\n",
    "   #         state of the game as described above.\n",
    "    #        The second value (0) indicates the rewards\n",
    "     #       The third value (False) indicates whether the game is finished\n",
    "    # The first value is the sum of cards in your hand (14 in this case)\n",
    "       #     The second is the visible card in the dealer's hand \n",
    "        \n",
    "# game 1\n",
    "s0= game.deal()\n",
    "print(s0)\n",
    "#sum me = 12\n",
    "#visible card = 10\n",
    "s1 = game.step(1)\n",
    "print(s1)"
   ]
  },
  {
   "cell_type": "code",
   "execution_count": 63,
   "metadata": {},
   "outputs": [
    {
     "name": "stdout",
     "output_type": "stream",
     "text": [
      "(12, 7, False)\n"
     ]
    }
   ],
   "source": [
    "game = Blackjack()\n",
    "# Deal the cards:\n",
    "#deal\n",
    "s0= game.deal()\n",
    "print(s0)"
   ]
  },
  {
   "cell_type": "code",
   "execution_count": 65,
   "metadata": {},
   "outputs": [
    {
     "name": "stdout",
     "output_type": "stream",
     "text": [
      "((26, 7, False), -1, True)\n"
     ]
    }
   ],
   "source": [
    "#Hit\n",
    "s1 = game.step(1)\n",
    "print(s1)"
   ]
  },
  {
   "cell_type": "code",
   "execution_count": 62,
   "metadata": {},
   "outputs": [
    {
     "name": "stdout",
     "output_type": "stream",
     "text": [
      "((17, 1, False), -1.0, True)\n"
     ]
    }
   ],
   "source": [
    "s2=game.step(2)\n",
    "print(s2)"
   ]
  },
  {
   "cell_type": "markdown",
   "metadata": {},
   "source": [
    "**10**<br>\n",
    "19,(2) -1 <br> \n",
    "20,(10) -1 <br>\n",
    "24,(10), -1 <br>\n",
    "15, (7), -1 <br>\n",
    "21,(10), 1 <br>\n",
    "23,(10), -1 <br>\n",
    "18, (10), -1 <br>\n",
    "21, (10), 1 <br>\n",
    "19, (6), -1 <br>\n",
    "23, (1), -1 <br>\n",
    "\n",
    "**20**<br>\n",
    "20, (6), 1 <br>\n",
    "18, (10),1 <br>\n",
    "25,(10), -1 <br>\n",
    "20, (10),0 <br>\n",
    "17, (10), 0 <br>\n",
    "19, (10), 1 <br>\n",
    "21, (9), 1 <br>\n",
    "17, (8), -1 <br>\n",
    "18, (10), 1 <br>\n",
    "17, (3),1 <br>\n",
    "<br>\n",
    "**30**<br>\n",
    "21, (6), 0 <br>\n",
    "((19, 6, True), 1.0, True) <br>\n",
    "((20, 4, False), 1.0, True) <br>\n",
    "((20, 9, False), 1.0, True) <br>\n",
    "((18, 9, False), -1.0, True) <br>\n",
    "((18, 5, False), -1.0, True) <br>\n",
    "((20, 2, False), 0.0, True) <br>\n",
    "((22, 8, False), -1, True) <br>\n",
    "((20, 10, True), 1.0, True) <br>\n",
    "((18, 10, False), -1.0, True) <br>\n",
    "\n",
    "**40**<br>\n",
    "((20, 8, False), 1.0, True) <br>\n",
    "((22, 9, False), -1, True) <br>\n",
    "((26, 10, False), -1.0, True) <br>\n",
    "((26, 4, False), -1, True) <br>\n",
    "((20, 7, True), 1.0, True) <br>\n",
    "((23, 5, False), -1, True) <br>\n",
    "((24, 7, False), -1, True) <br>\n",
    "((19, 7, True), 1.0, True) <br>\n",
    "((24, 2, False), -1, True) <br>\n",
    "((20, 10, False), -1.0, True) <br>\n",
    "\n",
    "**50**<br>\n",
    "((16, 3, False), 1.0, True) <br>\n",
    "((20, 10, True), 0.0, True) <br>\n",
    "((21, 10, False), 1.0, True) <br>\n",
    "((17, 7, False), -1.0, True) <br>\n",
    "((20, 10, True), -1.0, True) <br>\n",
    "((20, 6, False), 1.0, True) <br>\n",
    "((20, 10, True), 0.0, True) <br>\n",
    "((22, 4, False), -1, True) <br>\n",
    "((17, 1, False), -1.0, True) <br>\n",
    "((26, 7, False), -1, True) <br>\n",
    "\n",
    "\n",
    "\n",
    "\n",
    "\n",
    "\n",
    "\n",
    "\n",
    "\n",
    "\n",
    "\n",
    "\n",
    "\n",
    "\n",
    "\n",
    "\n",
    "\n",
    "\n",
    "\n",
    "\n",
    "\n"
   ]
  },
  {
   "cell_type": "markdown",
   "metadata": {},
   "source": [
    "**ANSWER**"
   ]
  },
  {
   "cell_type": "markdown",
   "metadata": {},
   "source": [
    "## 2\n",
    "\n",
    "### [40 points] Perform Monte Carlo Policy Evaluation\n",
    "\n",
    "Thinking that you want to make your millions playing blackjack, you decide to test out a policy for playing this game. Your idea is an aggressive strategy: always hit unless the total of your cards adds up to 20 or 21, in which case you stay.\n",
    "\n",
    "**(a)** Use Monte Carlo policy evaluation to evaluate the expected returns from each state. Create plots for these similar to Sutton and Barto, Figure 5.1 where you plot the expected returns for each state. In this case create 2 plots:\n",
    "1. When you have a useable ace, plot the state space with the dealer's card on the x-axis, and the player's sum on the y-axis, and use the 'RdBu' matplotlib colormap and `imshow` to plot the value of each state under the policy described above. The domain of your x and y axes should include all possible states (2 to 21 for the player sum, and 1 to 10 for the dealer's card). Do this for for 10,000 episodes.\n",
    "2. Repeat (1) for the states without a usable ace.\n",
    "3. Repeat (1) for the case of 500,000 episodes.\n",
    "4. Relwat (2) for the case of 500,000 episodes.\n",
    "\n",
    "**(b)** Show a plot of the overall average reward per episode vs the number of episodes. For both the 10,000 episode case and the 500,000 episode case, record the overall average reward for this policy and report that value. "
   ]
  },
  {
   "cell_type": "markdown",
   "metadata": {},
   "source": [
    "### Monte Carlo Policy Evaluation "
   ]
  },
  {
   "cell_type": "markdown",
   "metadata": {},
   "source": [
    "#### Running 10k Simulation"
   ]
  },
  {
   "cell_type": "code",
   "execution_count": 5,
   "metadata": {},
   "outputs": [
    {
     "name": "stdout",
     "output_type": "stream",
     "text": [
      "Starting eps.\n",
      "\n",
      "Starting 10k eps.\n",
      "\n",
      "10k eps complete.\n",
      "\n",
      "Cell has run\n"
     ]
    }
   ],
   "source": [
    "from collections import defaultdict\n",
    "import matplotlib.pyplot as plt\n",
    "\n",
    "# The original Policy\n",
    "def originalPol(state):\n",
    "    # a state includes the sum of players cards, dealers visible and a usuable ace boolean\n",
    "    hand,_,_ = state\n",
    "    \n",
    "    # Hit if the players cards equal less than 20\n",
    "    if hand < 20:\n",
    "        return 1\n",
    "    # if the player's cards are 20 or 21 stay\n",
    "    else:\n",
    "        return 0\n",
    "    \n",
    "# Prediction Fxn \n",
    "\n",
    "def countNreward(game, policy, episodes):\n",
    "\n",
    "    ##### Initialize data structures before simulation\n",
    "    \n",
    "    # Dictionary to hold the stateValues as they are visited\n",
    "    stateVals = defaultdict(float)\n",
    "    # Dictionary to hold the returns for each state\n",
    "    returns = defaultdict(float)\n",
    "    # Dictionary to hold when each state is returned\n",
    "    count = defaultdict(float)\n",
    "    # For saving average reward per episode\n",
    "    avgrperep = []\n",
    "    \n",
    "    # counters for episodes and rewards\n",
    "    total_reward = 0\n",
    "    total_episodes = 0\n",
    "    \n",
    "    # Simulation\n",
    "    for episode_num in range(1, episodes+1):\n",
    "\n",
    "        # Start a new game\n",
    "        current_state = game.deal()\n",
    "\n",
    "        # each episode is one hand til completion \n",
    "        episode = []\n",
    "        \n",
    "        counter = 0\n",
    "        while True:\n",
    "\n",
    "            # decide whether to hit or stay based on the player's current hand\n",
    "            action = policy(current_state)\n",
    "\n",
    "            # update the game with the action based on the policy\n",
    "            next_state,reward,game_over = game.step(action)\n",
    "            \n",
    "            # save the current state and the associated award with that state\n",
    "            episode.append((current_state, reward))\n",
    "\n",
    "            # check to see if the game ended\n",
    "            if game_over:\n",
    "                total_reward += reward # if the game ended add that episodes reward to the total reward counter\n",
    "                break\n",
    "\n",
    "            # if not then continue playing\n",
    "            current_state = next_state\n",
    "        \n",
    "        # Update the counter for total episodes\n",
    "        total_episodes += 1\n",
    "        \n",
    "        # calculate the average reward and save it\n",
    "        avgrperep.append(total_reward/float(total_episodes))\n",
    "\n",
    "        # For each state appearing in the episode:\n",
    "        for i in range(len(episode)):\n",
    "\n",
    "            # Extract info from entry\n",
    "            state, reward = episode[i]\n",
    "\n",
    "            # G = return following the first occurrence of s\n",
    "            #   Sum all rewards from here to end\n",
    "            G = 0\n",
    "            for j in range(i,len(episode)):\n",
    "                G += episode[j][1]\n",
    "\n",
    "            # Append G to return list\n",
    "            returns[state] += G\n",
    "            # Update so we can average reward over # of visits to state\n",
    "            count[state] += 1\n",
    "\n",
    "            # V[s] = average(Returns[s])\n",
    "            stateVals[state] = returns[state]/count[state]\n",
    "        \n",
    "    return stateVals, avgrperep\n",
    "\n",
    "# Initialize a Blackjack game to play\n",
    "bjack_game = Blackjack()\n",
    "\n",
    "print(\"Starting eps.\\n\")\n",
    "\n",
    "print(\"Starting 10k eps.\\n\")\n",
    "\n",
    "Vals10k, avgR10k = countNreward(bjack_game, originalPol, 10000)\n",
    "\n",
    "print(\"10k eps complete.\\n\")\n",
    "\n",
    "print(\"Cell has run\")\n",
    "\n",
    "\n"
   ]
  },
  {
   "cell_type": "markdown",
   "metadata": {},
   "source": [
    "#### Running 500k Simulations"
   ]
  },
  {
   "cell_type": "code",
   "execution_count": 14,
   "metadata": {},
   "outputs": [
    {
     "name": "stdout",
     "output_type": "stream",
     "text": [
      "Starting 500k eps.\n",
      "\n",
      "500k eps complete.\n",
      "\n",
      "Cell has run\n"
     ]
    }
   ],
   "source": [
    "## 500 k\n",
    "\n",
    "plt.show()\n",
    "print(\"Starting 500k eps.\\n\")\n",
    "Vals500k, avgR500k = countNreward(bjack_game, originalPol, 500000)\n",
    "print(\"500k eps complete.\\n\")\n",
    "\n",
    "print(\"Cell has run\")\n"
   ]
  },
  {
   "cell_type": "markdown",
   "metadata": {},
   "source": [
    "### Simulation Plots for 10k and 500k"
   ]
  },
  {
   "cell_type": "markdown",
   "metadata": {},
   "source": [
    "#### Plotting 10k Simulations"
   ]
  },
  {
   "cell_type": "code",
   "execution_count": 15,
   "metadata": {},
   "outputs": [
    {
     "name": "stdout",
     "output_type": "stream",
     "text": [
      "Plotting. \n",
      " \n"
     ]
    },
    {
     "data": {
      "text/plain": [
       "<matplotlib.colorbar.Colorbar at 0x1a22124588>"
      ]
     },
     "execution_count": 15,
     "metadata": {},
     "output_type": "execute_result"
    },
    {
     "data": {
      "image/png": "[encoded data removed]",
      "text/plain": [
       "<Figure size 720x504 with 4 Axes>"
      ]
     },
     "metadata": {
      "needs_background": "light"
     },
     "output_type": "display_data"
    }
   ],
   "source": [
    "# 10k Plots\n",
    "print(\"Plotting. \\n \")\n",
    "\n",
    "# Dealer's card shown\n",
    "x = np.arange(1, 12, 1)\n",
    "# Player's hand\n",
    "y = np.arange(2, 23, 1)\n",
    "# Create mesh grid of all possible x,y coords\n",
    "X, Y = np.meshgrid(x, y)\n",
    "\n",
    "# the statevalues when there is a usuable ace\n",
    "Ace10K = np.array([Vals10k[(y,x,True)] for (x,y) in zip(np.ravel(X), np.ravel(Y))])\n",
    "Ace10K = Ace10K.reshape(X.shape)\n",
    "\n",
    "# the statevalues when there is a unusuable ace\n",
    "NAce10k = np.array([Vals10k[(y,x,False)] for (x,y) in zip(np.ravel(X), np.ravel(Y))])\n",
    "NAce10K = NAce10k.reshape(X.shape)\n",
    "\n",
    "plt.figure(figsize = (10,7))\n",
    "\n",
    "# Plotting an usuable ace\n",
    "plt.subplot(1,2,1)\n",
    "plt.title(\"Values for 10k Episodes\\n with Usable Ace\")\n",
    "plt.xlabel(\"Dealer's Face Up Card\")\n",
    "plt.ylabel(\"Player's Hand Total\")\n",
    "plt.pcolor(X,Y,Ace10K, cmap='RdBu')\n",
    "plt.colorbar()\n",
    "\n",
    "# Plotting an unusable ace\n",
    "plt.subplot(1,2,2)\n",
    "plt.title(\"Values for 10k Episodes\\n without Usable Ace\")\n",
    "plt.xlabel(\"Dealer's Face Up Card\")\n",
    "plt.ylabel(\"Player's Hand Total\")\n",
    "plt.pcolor(X,Y,NAce10K, cmap='RdBu')\n",
    "plt.colorbar()\n",
    "\n",
    "\n",
    "\n"
   ]
  },
  {
   "cell_type": "markdown",
   "metadata": {},
   "source": [
    "#### Plotting 500k Simulation"
   ]
  },
  {
   "cell_type": "code",
   "execution_count": 16,
   "metadata": {},
   "outputs": [
    {
     "name": "stdout",
     "output_type": "stream",
     "text": [
      "Plotting.\n",
      "\n"
     ]
    },
    {
     "data": {
      "image/png": "[encoded data removed]",
      "text/plain": [
       "<Figure size 720x504 with 4 Axes>"
      ]
     },
     "metadata": {
      "needs_background": "light"
     },
     "output_type": "display_data"
    },
    {
     "name": "stdout",
     "output_type": "stream",
     "text": [
      "Cell has run.\n"
     ]
    }
   ],
   "source": [
    "\n",
    "print(\"Plotting.\\n\")\n",
    "\n",
    "# 50K Plots\n",
    "\n",
    "# the statevalues when there is a usuable ace\n",
    "Ace500K= np.array([Vals500k[(y,x,True)] for (x, y) in zip(np.ravel(X), np.ravel(Y))])\n",
    "Ace500K = Ace500K.reshape(X.shape)\n",
    "\n",
    "# The statevalues when there is an unusable ace\n",
    "NAce500k = np.array([Vals500k[(y,x,False)] for (x, y) in zip(np.ravel(X), np.ravel(Y))])\n",
    "NAce500k = NAce500k.reshape(X.shape)\n",
    "\n",
    "plt.figure(figsize = (10,7))\n",
    "\n",
    "# Plotting an usuable ace\n",
    "plt.subplot(1,2,1)\n",
    "plt.title(\"Values at 500k Episodes\\n with Usable Ace\")\n",
    "plt.xlabel(\"Dealer's Face Up Card\")\n",
    "plt.ylabel(\"Player's Hand Total\")\n",
    "plt.pcolor(X, Y, Ace500K, cmap = 'RdBu')\n",
    "plt.colorbar()\n",
    "\n",
    "# Plotting an unusable ace\n",
    "plt.subplot(1,2,2)\n",
    "plt.title(\"Values at 500k Episodes\\n without Usable Ace\")\n",
    "plt.xlabel(\"Dealer's Face up Card\")\n",
    "plt.ylabel(\"Player's Hand Total\")\n",
    "plt.pcolor(X, Y, NAce500k, cmap = 'RdBu')\n",
    "plt.colorbar()\n",
    "\n",
    "plt.show()\n",
    "\n",
    "print(\"Cell has run.\")"
   ]
  },
  {
   "cell_type": "markdown",
   "metadata": {},
   "source": [
    "### Average reward per episode vs the number of episodes."
   ]
  },
  {
   "cell_type": "code",
   "execution_count": 42,
   "metadata": {},
   "outputs": [
    {
     "data": {
      "image/png": "[encoded data removed]",
      "text/plain": [
       "<Figure size 720x360 with 1 Axes>"
      ]
     },
     "metadata": {
      "needs_background": "light"
     },
     "output_type": "display_data"
    },
    {
     "data": {
      "image/png": "[encoded data removed]",
      "text/plain": [
       "<Figure size 720x360 with 1 Axes>"
      ]
     },
     "metadata": {
      "needs_background": "light"
     },
     "output_type": "display_data"
    },
    {
     "name": "stdout",
     "output_type": "stream",
     "text": [
      "Average Reward for 10k -0.3773\n",
      "Average Reward for 500k -0.3533\n"
     ]
    }
   ],
   "source": [
    "# Average reward for 10K Episodes\n",
    "plt.figure(figsize=(10, 5))\n",
    "plt.title(\"Average Reward/Episode over 10k Episodes\")\n",
    "plt.ylabel(\"Average Reward/Episode\")\n",
    "plt.xlabel(\"Number of Episodes\")\n",
    "plt.plot(range(0, len(avgReward10k),10), [avgReward10k[i] for i in range(0,len(avgReward10k), 10)])\n",
    "plt.show()\n",
    "\n",
    "# Average reward for 10K Episodes\n",
    "plt.figure(figsize = (10, 5))\n",
    "plt.title(\"Average Reward/Episode over 500k Episodes\")\n",
    "plt.ylabel(\"AverageReward/Episode\")\n",
    "plt.xlabel(\"Number of Episodes\")\n",
    "plt.plot(range(0,len(avgR500k),500), [avgR500k[i] for i in range(0,len(avgR500k), 500)])\n",
    "plt.show()\n",
    "\n",
    "overall10k = np.sum(np.array(avgR10k))/float(len(avgR10k))\n",
    "overall500k = np.sum(np.array(avgR500k))/float(len(avgR500k))\n",
    "print(\"Avg Reward for 10k {:.4f}\".format(overall10k))\n",
    "print(\"Avg Reward for 500k {:.4f}\".format(overall500k))"
   ]
  },
  {
   "cell_type": "markdown",
   "metadata": {},
   "source": [
    "## 3\n",
    "\n",
    "### [40 points] Perform Monte Carlo Control\n",
    "\n",
    "**(a)** Using Monte Carlo Control through policy iteration, estimate the optimal policy for playing our modified blackjack game to maximize rewards. \n",
    "\n",
    "In doing this, use the following assumptions:\n",
    "1. Initialize the value function and the state value function to all zeros\n",
    "2. Keep a running tally of the number of times the agent visited each state and chose an action. $N(s_t,a_t)$ is the number of times action $a$ has been selected from state $s$. You'll need this to compute the running average. You can implement an online average as: $\\bar{x}_{t} = \\frac{1}{N}x_t + \\frac{N-1}{N}\\bar{x}_{t-1}$ \n",
    "3. Use an $\\epsilon$-greedy exploration strategy with $\\epsilon_t = \\frac{N_0}{N_0 + N(s_t)}$, where we define $N_0 = 100$. Vary $N_0$ as needed.\n",
    "\n",
    "Show your result by plotting the optimal value function: $V^*(s) = max_a Q^*(s,a)$ and the optimal policy $\\pi^*(s)$. Create plots for these similar to Sutton and Barto, Figure 5.2 in the new draft edition, or 5.5 in the original edition. Your results SHOULD be very similar to the plots in that text. For these plots include:\n",
    "1. When you have a useable ace, plot the state space with the dealer's card on the x-axis, and the player's sum on the y-axis, and use the 'RdBu' matplotlib colormap and `imshow` to plot the value of each state under the policy described above. The domain of your x and y axes should include all possible states (2 to 21 for the player sum, and 1 to 10 for the dealer's visible card).\n",
    "2. Repeat (1) for the states without a usable ace.\n",
    "3. A plot of the optimal policy $\\pi^*(s)$ for the states with a usable ace (this plot could be an imshow plot with binary values).\n",
    "4. A plot of the optimal policy $\\pi^*(s)$ for the states without a usable ace (this plot could be an imshow plot with binary values).\n",
    "\n",
    "**(b)** Show a plot of the overall average reward per episode vs the number of episodes. What is the average reward your control strategy was able to achieve?\n",
    "\n",
    "*Note: convergence of this algorithm is extremely slow. You may need to let this run a few million episodes before the policy starts to converge. You're not expected to get EXACTLY the optimal policy, but it should be visibly close.* "
   ]
  },
  {
   "cell_type": "code",
   "execution_count": 41,
   "metadata": {
    "scrolled": true
   },
   "outputs": [
    {
     "name": "stdout",
     "output_type": "stream",
     "text": [
      "Starting eps.\n",
      "\n",
      "Done.\n"
     ]
    }
   ],
   "source": [
    "from collections import defaultdict\n",
    "import matplotlib.pyplot as plt\n",
    "import random\n",
    "\n",
    "\n",
    "# Define the policy function we will use\n",
    "def originalPolC(policy, state, epsilon):\n",
    "      \n",
    "    # determine the best policy in the state.\n",
    "    bestAct = policy[state]\n",
    "    otherAct = 0 if bestAct == 1 else 1\n",
    "    \n",
    "    # Generate a random number in [0,1]\n",
    "    num = random.uniform(0, 1)\n",
    "    # check for (1-epsilon) case where we choose to EXPLORE\n",
    "    if num >= epsilon:\n",
    "        return otherAct\n",
    "    # Most of the time choose to EXPLOIT\n",
    "    else:\n",
    "        return bestAct\n",
    "    \n",
    "def countNrewardC(game, policy, iterations):\n",
    "\n",
    "    # A Dictionary to hold action value pairs\n",
    "    actionPair = defaultdict(float)\n",
    "    \n",
    "    # A Dictionary to hold the returns for each action value pairs\n",
    "    returns2 = defaultdict(float)\n",
    "    \n",
    "    # A Dictionary to store the number of times the state,action was taken\n",
    "    count2 = defaultdict(float)\n",
    "    \n",
    "    # A Dictionary to hold the policy for each possible state\n",
    "    Policy = defaultdict(float)\n",
    "    \n",
    "    # Array for saving average reward per episode\n",
    "    average_reward_per_episode = []\n",
    "    \n",
    "    # array for the running average reward\n",
    "    running_overall_average_reward = []\n",
    "    \n",
    "    # counters for the total reward and episodes\n",
    "    total_reward = 0\n",
    "    episode_counter = 0\n",
    "    \n",
    "    for it in range(1, iterations+1):\n",
    "\n",
    "        # Start the game and set the current state\n",
    "        current_state = game.deal()\n",
    "\n",
    "        # Array to hold all of the episodes\n",
    "        episode = []\n",
    "        \n",
    "        # Counters to hold the total rewards \n",
    "        total_episode_reward = 0\n",
    "        counter = 0\n",
    "        \n",
    "        while True:\n",
    "\n",
    "            # Determine action based on the current policy function\n",
    "            N_0 = 100.\n",
    "            N_st = count2[(current_state,1)] + count2[(current_state,0)]\n",
    "            eps = 1- N_0/(N_0 + N_st)\n",
    "            action = policy(Policy, current_state, eps)\n",
    "\n",
    "            # Take the next step based on the best action for that state\n",
    "            next_state, reward, game_over = game.step(action)\n",
    "\n",
    "            # Update counters for average reward/episode\n",
    "            total_episode_reward += reward\n",
    "            counter += 1\n",
    "            \n",
    "            # Save the state, reward, and action for the episode\n",
    "            episode.append((current_state, reward, action))\n",
    "\n",
    "            # if the game is over update the total reward\n",
    "            if game_over:\n",
    "                total_reward += reward\n",
    "                break\n",
    "\n",
    "            # else go to the next state\n",
    "            current_state = next_state\n",
    "\n",
    "        # Save average reward for this episode\n",
    "        average_reward_per_episode.append(total_episode_reward/float(counter))\n",
    "        episode_counter += 1\n",
    "        running_overall_average_reward.append(total_reward/float(episode_counter))       \n",
    "    \n",
    "        # For each state,action pair appearing in the episode:\n",
    "        for i in range(len(episode)):\n",
    "\n",
    "            state,reward,action = episode[i]\n",
    "\n",
    "            # G is the return following the first time to that state \n",
    "            G = 0\n",
    "            for j in range(i,len(episode)):\n",
    "                G += episode[j][1]\n",
    "\n",
    "            # Append episodic return G to Returns\n",
    "            returns2[(state,action)] += G\n",
    "            # update Returns_cnt in order to average reward over all visits to that state\n",
    "            count2[(state,action)] += 1\n",
    "\n",
    "            # Update the action pair based on the average returns from that state\n",
    "            actionPair[(state,action)] = returns2[(state,action)]/count2[(state,action)]\n",
    "        \n",
    "        # For each state in the episode\n",
    "        for i in range(len(episode)):\n",
    "            state,_,_ = episode[i]\n",
    "            # Find the best action for that state. \n",
    "            a_hit = actionPair[(state,1)]\n",
    "            a_stay = actionPair[(state,0)]\n",
    "            a_best = 1 if a_hit > a_stay else 0\n",
    "            Policy[state] = a_best\n",
    "            \n",
    "    return actionPair, Policy, average_reward_per_episode, running_overall_average_reward\n",
    "\n",
    "# Initialize a Blackjack game to play\n",
    "bjack_game = Blackjack()\n",
    "\n",
    "print(\"Starting eps.\\n\")\n",
    "\n",
    "# Conduct 2 Million iterations of the greedy policy for results.\n",
    "actionPair, policy, avgR, runningAvg = countNrewardC(bjack_game, originalPolC, 5000000)\n",
    "\n",
    "print(\"Done.\")"
   ]
  },
  {
   "cell_type": "code",
   "execution_count": 48,
   "metadata": {},
   "outputs": [
    {
     "data": {
      "image/png": "[encoded data removed]",
      "text/plain": [
       "<Figure size 720x720 with 4 Axes>"
      ]
     },
     "metadata": {
      "needs_background": "light"
     },
     "output_type": "display_data"
    },
    {
     "data": {
      "image/png": "[encoded data removed]",
      "text/plain": [
       "<Figure size 720x720 with 2 Axes>"
      ]
     },
     "metadata": {
      "needs_background": "light"
     },
     "output_type": "display_data"
    },
    {
     "data": {
      "image/png": "[encoded data removed]",
      "text/plain": [
       "<Figure size 720x288 with 1 Axes>"
      ]
     },
     "metadata": {
      "needs_background": "light"
     },
     "output_type": "display_data"
    },
    {
     "name": "stdout",
     "output_type": "stream",
     "text": [
      "Overall Average Reward: -0.0593 \n"
     ]
    }
   ],
   "source": [
    "import numpy as np\n",
    "import matplotlib.patches as mpatches\n",
    "\n",
    "# Dealers card showing\n",
    "x = np.arange(1, 12, 1)\n",
    "# Player's hand total \n",
    "y = np.arange(2, 23, 1)\n",
    "# Create mesh grid of all possible x,y coords\n",
    "X, Y = np.meshgrid(x, y)\n",
    "\n",
    "# Grab the value in V for each x,y coordinate for 'usable_Ace = True'\n",
    "q_usable = np.maximum(np.array([actionPair[((y, x, True), 0)] for (x, y) in zip(np.ravel(X), np.ravel(Y))]), \n",
    "                      np.array([actionPair[((y, x, True), 1)] for (x, y) in zip(np.ravel(X), np.ravel(Y))])) \n",
    "Q_usable = q_usable.reshape(X.shape)\n",
    "\n",
    "# Grab the value in V for each x,y coordinate for 'usable_Ace = False'\n",
    "q_unusable = np.maximum(np.array([actionPair[((y, x, False), 0)] for (x, y) in zip(np.ravel(X), np.ravel(Y))]), \n",
    "                        np.array([actionPair[((y, x, False), 1)] for (x, y) in zip(np.ravel(X), np.ravel(Y))])) \n",
    "Q_unusable = q_unusable.reshape(X.shape)\n",
    "\n",
    "# Policy fxn for states with unusable ace\n",
    "pol_unusable = np.array([originalPol2(policy, (y, x, False), 1.1) for (x, y) in zip(np.ravel(X), np.ravel(Y))])\n",
    "Policy_unusable = pol_unusable.reshape(X.shape)\n",
    "\n",
    "# Policy fxn for states with usable ace\n",
    "pol_usable = np.array([originalPol2(policy, (y, x, True), 1.1) for (x, y) in zip(np.ravel(X), np.ravel(Y))])\n",
    "Policy_usable = pol_usable.reshape(X.shape)\n",
    "\n",
    "\n",
    "plt.figure(figsize=(10,10))\n",
    "\n",
    "# plot the player's hand with usuable aces\n",
    "plt.subplot(1,2,1)\n",
    "plt.title(\"Hands With Usable Ace\")\n",
    "plt.xlabel(\"Dealer's Face Up Card\")\n",
    "plt.ylabel(\"Value of Player's Hand\")\n",
    "plt.pcolor(X, Y, Q_usable, cmap = 'RdBu')\n",
    "plt.colorbar()\n",
    "\n",
    "# plot the players hand with unusuable aces\n",
    "plt.subplot(1,2,2)\n",
    "plt.title(\"Hands Without Usable Ace\")\n",
    "plt.xlabel(\"Dealer's Face Up Card\")\n",
    "plt.ylabel(\"Value of Player's Hand\")\n",
    "plt.pcolor(X, Y, Q_unusable, cmap = 'RdBu')\n",
    "plt.colorbar()\n",
    "plt.show\n",
    "\n",
    "plt.figure(figsize=(10,10))\n",
    "# plot the optimal policy with usuable aces\n",
    "plt.subplot(1,2,1)\n",
    "plt.title(\"Optimal Policy With Usable Ace\")\n",
    "plt.xlabel(\"Dealer's Face Up Card\")\n",
    "plt.ylabel(\"Value of Player's Hand\")\n",
    "plt.pcolor(X, Y, Policy_usable, cmap = 'Greys')\n",
    "\n",
    "legend_hit = mpatches.Patch(color = 'black', label = 'hit')\n",
    "legend_stay = mpatches.Patch(color = 'white', label = 'stay')\n",
    "plt.legend(handles = [legend_hit,legend_stay])\n",
    "\n",
    "# plot the optimal policy with unusuable aces\n",
    "plt.subplot(1,2,2)\n",
    "plt.title(\"Optimal Policy Without Usable Ace\")\n",
    "plt.xlabel(\"Dealer's Face Up Card\")\n",
    "plt.ylabel(\"Value of Player's Hand\")\n",
    "plt.pcolor(X, Y, Policy_unusable, cmap = 'Greys')\n",
    "\n",
    "legend_hit = mpatches.Patch(color = 'black', label = 'hit')\n",
    "legend_stay = mpatches.Patch(color = 'white', label = 'stay')\n",
    "\n",
    "plt.legend(handles = [legend_hit,legend_stay])\n",
    "\n",
    "plt.figure(figsize=(10,4))\n",
    "plt.title(\"Running Avg Reward vs Episode\")\n",
    "plt.ylabel(\"Current Average Reward\")\n",
    "plt.xlabel(\"Episode Number\")\n",
    "plt.plot(range(0,len(runningAvg),10000), [runningAvg[i] for i in range(0,len(runningAvg),10000)])\n",
    "#plt.plot(running_avg)\n",
    "plt.show()\n",
    "\n",
    "\n",
    "plt.show()\n",
    "\n",
    "# Calculate overall average rewards for 10k and 500k runs\n",
    "# for 10k\n",
    "overallAvgR = np.sum(np.array(avgR))/float(len(avgR))\n",
    "print(\"Overall Average Reward: {:.4f} \".format(overallAvgR))\n",
    "\n"
   ]
  },
  {
   "cell_type": "markdown",
   "metadata": {},
   "source": [
    "## 4\n",
    "\n",
    "### [10 points] Discuss your findings\n",
    "\n",
    "Compare the performance of your human control policy, the naive policy from question 2, and the optimal control policy in question 3. \n",
    "**(a)** Which performs best? Why is this the case? \n",
    "**(b)** Could you have created a better policy if you knew the full Markov Decision Process for this environment? Why or why not?"
   ]
  },
  {
   "cell_type": "markdown",
   "metadata": {},
   "source": [
    "The net wins for the human experiment was -11, which is -.22 reward per game. The Monte Carlo Policy Evaluations results in a an Average Reward for 10k of -0.3773. The Average Reward for infinite games is -0.059. Therefore, the house definitely always wins! The optimal policy from question 3 clearly berforms best. The full knowledge of MDP would not necessarily have created a better policy, because with infinate time, the policy converges to the best solution. "
   ]
  }
 ],
 "metadata": {
  "kernelspec": {
   "display_name": "Python 3",
   "language": "python",
   "name": "python3"
  },
  "language_info": {
   "codemirror_mode": {
    "name": "ipython",
    "version": 3
   },
   "file_extension": ".py",
   "mimetype": "text/x-python",
   "name": "python",
   "nbconvert_exporter": "python",
   "pygments_lexer": "ipython3",
   "version": "3.7.1"
  },
  "varInspector": {
   "cols": {
    "lenName": 16,
    "lenType": 16,
    "lenVar": 40
   },
   "kernels_config": {
    "python": {
     "delete_cmd_postfix": "",
     "delete_cmd_prefix": "del ",
     "library": "var_list.py",
     "varRefreshCmd": "print(var_dic_list())"
    },
    "r": {
     "delete_cmd_postfix": ") ",
     "delete_cmd_prefix": "rm(",
     "library": "var_list.r",
     "varRefreshCmd": "cat(var_dic_list()) "
    }
   },
   "types_to_exclude": [
    "module",
    "function",
    "builtin_function_or_method",
    "instance",
    "_Feature"
   ],
   "window_display": false
  }
 },
 "nbformat": 4,
 "nbformat_minor": 2
}
