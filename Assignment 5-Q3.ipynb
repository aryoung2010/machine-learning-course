{
 "cells": [
  {
   "cell_type": "markdown",
   "metadata": {},
   "source": [
    "# Assignment 5 - Reinforcement Learning\n",
    "\n",
    "## *Allison Young*\n",
    "Netid:  *ary13*"
   ]
  },
  {
   "cell_type": "markdown",
   "metadata": {},
   "source": [
    "### Blackjack\n",
    "\n",
    "Your goal is to develop a reinforcement learning technique to learn the optimal policy for winning at blackjack. Here, we're going to modify the rules from traditional blackjack a bit in a way that corresponds to the game presented in Sutton and Barto's *Reinforcement Learning: An Introduction* (Chapter 5, example 5.1). A full implementation of the game is provided and usage examples are detailed in the class header below.\n",
    "\n",
    "The rules of this modified version of the game of blackjack are as follows:\n",
    "\n",
    "- Blackjack is a card game where the goal is to obtain cards that sum to as near as possible to 21 without going over.  We're playing against a fixed (autonomous) dealer.\n",
    "- Face cards (Jack, Queen, King) have point value 10. Aces can either count as 11 or 1, and we're refer to it as 'usable' at 11 (indicating that it could be used as a '1' if need be. This game is placed with a deck of cards sampled with replacement.\n",
    "- The game starts with each (player and dealer) having one face up and one face down card.\n",
    "- The player can request additional cards (hit, or action '1') until they decide to stop (stay, action '0') or exceed 21 (bust, the game ends and player loses).\n",
    "- After the player stays, the dealer reveals their facedown card, and draws until their sum is 17 or greater. If the dealer goes bust the player wins. If neither player nor dealer busts, the outcome (win, lose, draw) is decided by whose sum is closer to 21.  The reward for winning is +1, drawing is 0, and losing is -1.\n",
    "\n",
    "\n",
    "\n",
    "You will accomplish three things:\n",
    "1. Try your hand at this game of blackjack and see what your human reinforcement learning system is able to achieve\n",
    "2. Evaluate a simple policy using Monte Carlo policy evaluation\n",
    "3. Determine an optimal policy using Monte Carlo control\n",
    "\n",
    "*This problem is adapted from David Silver's [excellent series on Reinforcement Learning](http://www0.cs.ucl.ac.uk/staff/d.silver/web/Teaching.html) at University College London*"
   ]
  },
  {
   "cell_type": "markdown",
   "metadata": {},
   "source": [
    "## 1\n",
    "\n",
    "### [10 points] Human reinforcement learning \n",
    "\n",
    "Using the code detailed below, play 50 hands of blackjack, and record your overall average reward. This will help you get accustomed with how the game works, the data structures involved with representing states, and what strategies are most effective."
   ]
  },
  {
   "cell_type": "code",
   "execution_count": 57,
   "metadata": {},
   "outputs": [
    {
     "name": "stdout",
     "output_type": "stream",
     "text": [
      "cell has run\n"
     ]
    }
   ],
   "source": [
    "import numpy as np\n",
    "\n",
    "class Blackjack():\n",
    "    \"\"\"Simple blackjack environment adapted from OpenAI Gym:\n",
    "        https://github.com/openai/gym/blob/master/gym/envs/toy_text/blackjack.py\n",
    "    \n",
    "    Blackjack is a card game where the goal is to obtain cards that sum to as\n",
    "    near as possible to 21 without going over.  They're playing against a fixed\n",
    "    dealer.\n",
    "    \n",
    "    Face cards (Jack, Queen, King) have point value 10.\n",
    "    Aces can either count as 11 or 1, and it's called 'usable' at 11.\n",
    "    This game is placed with a deck sampled with replacement.\n",
    "    \n",
    "    The game starts with each (player and dealer) having one face up and one\n",
    "    face down card.\n",
    "    \n",
    "    The player can request additional cards (hit = 1) until they decide to stop\n",
    "    (stay = 0) or exceed 21 (bust).\n",
    "    \n",
    "    After the player stays, the dealer reveals their facedown card, and draws\n",
    "    until their sum is 17 or greater.  If the dealer goes bust the player wins.\n",
    "    If neither player nor dealer busts, the outcome (win, lose, draw) is\n",
    "    decided by whose sum is closer to 21.  The reward for winning is +1,\n",
    "    drawing is 0, and losing is -1.\n",
    "    \n",
    "    The observation is a 3-tuple of: the players current sum,\n",
    "    the dealer's one showing card (1-10 where 1 is ace),\n",
    "    and whether or not the player holds a usable ace (0 or 1).\n",
    "    \n",
    "    This environment corresponds to the version of the blackjack problem\n",
    "    described in Example 5.1 in Reinforcement Learning: An Introduction\n",
    "    by Sutton and Barto (1998).\n",
    "    \n",
    "    http://incompleteideas.net/sutton/book/the-book.html\n",
    "    \n",
    "    Usage: \n",
    "        Initialize the class:\n",
    "            game = Blackjack()\n",
    "        \n",
    "        Deal the cards:\n",
    "            game.deal()\n",
    "            \n",
    "             (14, 3, False)\n",
    "             \n",
    "            This is the agent's observation of the state of the game:\n",
    "            The first value is the sum of cards in your hand (14 in this case)\n",
    "            The second is the visible card in the dealer's hand (3 in this case)\n",
    "            The Boolean is a flag (False in this case) to indicate whether or \n",
    "                not you have a usable Ace\n",
    "            (Note: if you have a usable ace, the sum will treat the ace as a \n",
    "                value of '11' - this is the case if this Boolean flag is \"true\")\n",
    "            \n",
    "        Take an action: Hit (1) or stay (0)\n",
    "        \n",
    "            Take a hit: game.step(1)\n",
    "            To Stay:    game.step(0)\n",
    "            \n",
    "        The output summarizes the game status:\n",
    "            \n",
    "            ((15, 3, False), 0, False)\n",
    "            \n",
    "            The first tuple (15, 3, False), is the agent's observation of the\n",
    "            state of the game as described above.\n",
    "            The second value (0) indicates the rewards\n",
    "            The third value (False) indicates whether the game is finished\n",
    "    \"\"\"\n",
    "    \n",
    "    def __init__(self):\n",
    "        # 1 = Ace, 2-10 = Number cards, Jack/Queen/King = 10\n",
    "        self.deck   = [1, 2, 3, 4, 5, 6, 7, 8, 9, 10, 10, 10, 10]\n",
    "        self.dealer = []\n",
    "        self.player = []\n",
    "        self.deal()\n",
    "\n",
    "    def step(self, action):\n",
    "        if action == 1:  # hit: add a card to players hand and return\n",
    "            self.player.append(self.draw_card())\n",
    "            if self.is_bust(self.player):\n",
    "                done = True\n",
    "                reward = -1\n",
    "            else:\n",
    "                done = False\n",
    "                reward = 0\n",
    "        else:  # stay: play out the dealers hand, and score\n",
    "            done = True\n",
    "            while self.sum_hand(self.dealer) < 17:\n",
    "                self.dealer.append(self.draw_card())\n",
    "            reward = self.cmp(self.score(self.player), self.score(self.dealer))\n",
    "        return self._get_obs(), reward, done\n",
    "\n",
    "    def _get_obs(self):\n",
    "        return (self.sum_hand(self.player), self.dealer[0], self.usable_ace(self.player))\n",
    "\n",
    "    def deal(self):\n",
    "        self.dealer = self.draw_hand()\n",
    "        self.player = self.draw_hand()\n",
    "        return self._get_obs()\n",
    "    \n",
    "    #------------------------------------------\n",
    "    # Other helper functions\n",
    "    #------------------------------------------\n",
    "    def cmp(self, a, b):\n",
    "        return float(a > b) - float(a < b)\n",
    "    \n",
    "    def draw_card(self):\n",
    "        return int(np.random.choice(self.deck))\n",
    "    \n",
    "    def draw_hand(self):\n",
    "        return [self.draw_card(), self.draw_card()]\n",
    "    \n",
    "    def usable_ace(self,hand):  # Does this hand have a usable ace?\n",
    "        return 1 in hand and sum(hand) + 10 <= 21\n",
    "    \n",
    "    def sum_hand(self,hand):  # Return current hand total\n",
    "        if self.usable_ace(hand):\n",
    "            return sum(hand) + 10\n",
    "        return sum(hand)\n",
    "    \n",
    "    def is_bust(self,hand):  # Is this hand a bust?\n",
    "        return self.sum_hand(hand) > 21\n",
    "    \n",
    "    def score(self,hand):  # What is the score of this hand (0 if bust)\n",
    "        return 0 if self.is_bust(hand) else self.sum_hand(hand)\n",
    "    \n",
    "print(\"cell has run\")"
   ]
  },
  {
   "cell_type": "markdown",
   "metadata": {},
   "source": [
    "Here's an example of how it works to get you started:"
   ]
  },
  {
   "cell_type": "code",
   "execution_count": 37,
   "metadata": {},
   "outputs": [
    {
     "name": "stdout",
     "output_type": "stream",
     "text": [
      "(17, 4, True)\n",
      "((17, 4, False), 0, False)\n"
     ]
    }
   ],
   "source": [
    "import numpy as np\n",
    "\n",
    "# Initialize the class:\n",
    "game = Blackjack()\n",
    "\n",
    "# Deal the cards:\n",
    "#s0 = game.deal()\n",
    "#print(s0)\n",
    "\n",
    "# Take an action: Hit = 1 or stay = 0. Here's a hit:\n",
    "#s1 = game.step(1)\n",
    "#print(s1)\n",
    "\n",
    "# If you wanted to stay:\n",
    "# game.step(2)\n",
    "\n",
    "# When it's gameover, just redeal:\n",
    "# game.deal()\n",
    "\n",
    "#The output summarizes the game status:\n",
    "            \n",
    " #           ((15, 3, False), 0, False)\n",
    "            \n",
    "  #          The first tuple (15, 3, False), is the agent's observation of the\n",
    "   #         state of the game as described above.\n",
    "    #        The second value (0) indicates the rewards\n",
    "     #       The third value (False) indicates whether the game is finished\n",
    "    # The first value is the sum of cards in your hand (14 in this case)\n",
    "       #     The second is the visible card in the dealer's hand \n",
    "        \n",
    "# game 1\n",
    "s0= game.deal()\n",
    "print(s0)\n",
    "#sum me = 12\n",
    "#visible card = 10\n",
    "s1 = game.step(1)\n",
    "print(s1)"
   ]
  },
  {
   "cell_type": "code",
   "execution_count": 63,
   "metadata": {},
   "outputs": [
    {
     "name": "stdout",
     "output_type": "stream",
     "text": [
      "(12, 7, False)\n"
     ]
    }
   ],
   "source": [
    "game = Blackjack()\n",
    "# Deal the cards:\n",
    "#deal\n",
    "s0= game.deal()\n",
    "print(s0)"
   ]
  },
  {
   "cell_type": "code",
   "execution_count": 65,
   "metadata": {},
   "outputs": [
    {
     "name": "stdout",
     "output_type": "stream",
     "text": [
      "((26, 7, False), -1, True)\n"
     ]
    }
   ],
   "source": [
    "#Hit\n",
    "s1 = game.step(1)\n",
    "print(s1)"
   ]
  },
  {
   "cell_type": "code",
   "execution_count": 62,
   "metadata": {},
   "outputs": [
    {
     "name": "stdout",
     "output_type": "stream",
     "text": [
      "((17, 1, False), -1.0, True)\n"
     ]
    }
   ],
   "source": [
    "s2=game.step(2)\n",
    "print(s2)"
   ]
  },
  {
   "cell_type": "markdown",
   "metadata": {},
   "source": [
    "**10**<br>\n",
    "19,(2) -1 <br> \n",
    "20,(10) -1 <br>\n",
    "24,(10), -1 <br>\n",
    "15, (7), -1 <br>\n",
    "21,(10), 1 <br>\n",
    "23,(10), -1 <br>\n",
    "18, (10), -1 <br>\n",
    "21, (10), 1 <br>\n",
    "19, (6), -1 <br>\n",
    "23, (1), -1 <br>\n",
    "\n",
    "**20**<br>\n",
    "20, (6), 1 <br>\n",
    "18, (10),1 <br>\n",
    "25,(10), -1 <br>\n",
    "20, (10),0 <br>\n",
    "17, (10), 0 <br>\n",
    "19, (10), 1 <br>\n",
    "21, (9), 1 <br>\n",
    "17, (8), -1 <br>\n",
    "18, (10), 1 <br>\n",
    "17, (3),1 <br>\n",
    "<br>\n",
    "**30**<br>\n",
    "21, (6), 0 <br>\n",
    "((19, 6, True), 1.0, True) <br>\n",
    "((20, 4, False), 1.0, True) <br>\n",
    "((20, 9, False), 1.0, True) <br>\n",
    "((18, 9, False), -1.0, True) <br>\n",
    "((18, 5, False), -1.0, True) <br>\n",
    "((20, 2, False), 0.0, True) <br>\n",
    "((22, 8, False), -1, True) <br>\n",
    "((20, 10, True), 1.0, True) <br>\n",
    "((18, 10, False), -1.0, True) <br>\n",
    "\n",
    "**40**<br>\n",
    "((20, 8, False), 1.0, True) <br>\n",
    "((22, 9, False), -1, True) <br>\n",
    "((26, 10, False), -1.0, True) <br>\n",
    "((26, 4, False), -1, True) <br>\n",
    "((20, 7, True), 1.0, True) <br>\n",
    "((23, 5, False), -1, True) <br>\n",
    "((24, 7, False), -1, True) <br>\n",
    "((19, 7, True), 1.0, True) <br>\n",
    "((24, 2, False), -1, True) <br>\n",
    "((20, 10, False), -1.0, True) <br>\n",
    "\n",
    "**50**<br>\n",
    "((16, 3, False), 1.0, True) <br>\n",
    "((20, 10, True), 0.0, True) <br>\n",
    "((21, 10, False), 1.0, True) <br>\n",
    "((17, 7, False), -1.0, True) <br>\n",
    "((20, 10, True), -1.0, True) <br>\n",
    "((20, 6, False), 1.0, True) <br>\n",
    "((20, 10, True), 0.0, True) <br>\n",
    "((22, 4, False), -1, True) <br>\n",
    "((17, 1, False), -1.0, True) <br>\n",
    "((26, 7, False), -1, True) <br>\n",
    "\n",
    "\n",
    "\n",
    "\n",
    "\n",
    "\n",
    "\n",
    "\n",
    "\n",
    "\n",
    "\n",
    "\n",
    "\n",
    "\n",
    "\n",
    "\n",
    "\n",
    "\n",
    "\n",
    "\n",
    "\n"
   ]
  },
  {
   "cell_type": "markdown",
   "metadata": {},
   "source": [
    "**ANSWER**"
   ]
  },
  {
   "cell_type": "markdown",
   "metadata": {},
   "source": [
    "## 2\n",
    "\n",
    "### [40 points] Perform Monte Carlo Policy Evaluation\n",
    "\n",
    "Thinking that you want to make your millions playing blackjack, you decide to test out a policy for playing this game. Your idea is an aggressive strategy: always hit unless the total of your cards adds up to 20 or 21, in which case you stay.\n",
    "\n",
    "**(a)** Use Monte Carlo policy evaluation to evaluate the expected returns from each state. Create plots for these similar to Sutton and Barto, Figure 5.1 where you plot the expected returns for each state. In this case create 2 plots:\n",
    "1. When you have a useable ace, plot the state space with the dealer's card on the x-axis, and the player's sum on the y-axis, and use the 'RdBu' matplotlib colormap and `imshow` to plot the value of each state under the policy described above. The domain of your x and y axes should include all possible states (2 to 21 for the player sum, and 1 to 10 for the dealer's card). Do this for for 10,000 episodes.\n",
    "2. Repeat (1) for the states without a usable ace.\n",
    "3. Repeat (1) for the case of 500,000 episodes.\n",
    "4. Relwat (2) for the case of 500,000 episodes.\n",
    "\n",
    "**(b)** Show a plot of the overall average reward per episode vs the number of episodes. For both the 10,000 episode case and the 500,000 episode case, record the overall average reward for this policy and report that value. "
   ]
  },
  {
   "cell_type": "code",
   "execution_count": 180,
   "metadata": {},
   "outputs": [
    {
     "data": {
      "text/plain": [
       "dtype('O')"
      ]
     },
     "execution_count": 180,
     "metadata": {},
     "output_type": "execute_result"
    }
   ],
   "source": []
  },
  {
   "cell_type": "markdown",
   "metadata": {},
   "source": [
    "## Play 10,000 and 500,000 Games"
   ]
  },
  {
   "cell_type": "code",
   "execution_count": 65,
   "metadata": {},
   "outputs": [
    {
     "name": "stdout",
     "output_type": "stream",
     "text": [
      "[[18, 5, True], ((15, 5, False), 0), ((25, 5, False), -1), ((25, 5, False), -1.0)]\n",
      "Game 0 finished\n",
      "Game 0 finished\n",
      "[[18, 5, True], ((15, 5, False), 0), ((25, 5, False), -1), ((25, 5, False), -1.0), [9, 8, False], ((20, 8, False), 0), ((20, 8, False), 0.0)]\n",
      "[[18, 5, True], ((15, 5, False), 0), ((25, 5, False), -1), ((25, 5, False), -1.0), [9, 8, False], ((20, 8, False), 0), ((20, 8, False), 0.0), [13, 4, False], ((23, 4, False), -1.0)]\n",
      "[[18, 5, True], ((15, 5, False), 0), ((25, 5, False), -1), ((25, 5, False), -1.0), [9, 8, False], ((20, 8, False), 0), ((20, 8, False), 0.0), [13, 4, False], ((23, 4, False), -1.0), [16, 6, False], ((26, 6, False), 0.0)]\n",
      "[[18, 5, True], ((15, 5, False), 0), ((25, 5, False), -1), ((25, 5, False), -1.0), [9, 8, False], ((20, 8, False), 0), ((20, 8, False), 0.0), [13, 4, False], ((23, 4, False), -1.0), [16, 6, False], ((26, 6, False), 0.0), ((20, 10, False), 1.0)]\n",
      "[[18, 5, True], ((15, 5, False), 0), ((25, 5, False), -1), ((25, 5, False), -1.0), [9, 8, False], ((20, 8, False), 0), ((20, 8, False), 0.0), [13, 4, False], ((23, 4, False), -1.0), [16, 6, False], ((26, 6, False), 0.0), ((20, 10, False), 1.0), [18, 10, True], ((28, 10, False), -1), ((28, 10, False), 0.0)]\n",
      "[[18, 5, True], ((15, 5, False), 0), ((25, 5, False), -1), ((25, 5, False), -1.0), [9, 8, False], ((20, 8, False), 0), ((20, 8, False), 0.0), [13, 4, False], ((23, 4, False), -1.0), [16, 6, False], ((26, 6, False), 0.0), ((20, 10, False), 1.0), [18, 10, True], ((28, 10, False), -1), ((28, 10, False), 0.0), [19, 4, False], ((21, 4, False), 0.0)]\n",
      "[[18, 5, True], ((15, 5, False), 0), ((25, 5, False), -1), ((25, 5, False), -1.0), [9, 8, False], ((20, 8, False), 0), ((20, 8, False), 0.0), [13, 4, False], ((23, 4, False), -1.0), [16, 6, False], ((26, 6, False), 0.0), ((20, 10, False), 1.0), [18, 10, True], ((28, 10, False), -1), ((28, 10, False), 0.0), [19, 4, False], ((21, 4, False), 0.0), [13, 1, False], ((21, 1, False), 1.0)]\n",
      "[[18, 5, True], ((15, 5, False), 0), ((25, 5, False), -1), ((25, 5, False), -1.0), [9, 8, False], ((20, 8, False), 0), ((20, 8, False), 0.0), [13, 4, False], ((23, 4, False), -1.0), [16, 6, False], ((26, 6, False), 0.0), ((20, 10, False), 1.0), [18, 10, True], ((28, 10, False), -1), ((28, 10, False), 0.0), [19, 4, False], ((21, 4, False), 0.0), [13, 1, False], ((21, 1, False), 1.0), [12, 9, False], ((20, 9, False), 1.0)]\n",
      "[[18, 5, True], ((15, 5, False), 0), ((25, 5, False), -1), ((25, 5, False), -1.0), [9, 8, False], ((20, 8, False), 0), ((20, 8, False), 0.0), [13, 4, False], ((23, 4, False), -1.0), [16, 6, False], ((26, 6, False), 0.0), ((20, 10, False), 1.0), [18, 10, True], ((28, 10, False), -1), ((28, 10, False), 0.0), [19, 4, False], ((21, 4, False), 0.0), [13, 1, False], ((21, 1, False), 1.0), [12, 9, False], ((20, 9, False), 1.0), ((20, 2, False), -1.0)]\n",
      "10 games have been played\n"
     ]
    }
   ],
   "source": [
    "import numpy as np\n",
    "import seaborn as sns\n",
    "from matplotlib import pyplot as plt\n",
    "import pandas as pd\n",
    "\n",
    "n=10000\n",
    "game = Blackjack()\n",
    "\n",
    "def twoneorbust(game, n):\n",
    "    outcomes= []\n",
    "    suboutcomes = []\n",
    "    for i in range(0,n):\n",
    "        board = game.deal()\n",
    "        #print(board) # starting board\n",
    "        if board[0] < 20:\n",
    "            suboutcomes.append(list(board))\n",
    "            board= game.step(1) # hit if below 20\n",
    "            while board[0][0] < 20:\n",
    "                if board[2] == True:\n",
    "                    suboutcomes.append(board[0:2]) # add board to outcomes\n",
    "                if board[2] == False:  # while your hand less than 20, hit\n",
    "                    board= game.step(1)  #hit \n",
    "                    suboutcomes.append(board[0:2])# add board to outcomes\n",
    "         # whenever 20 or above, stop game\n",
    "        board= game.step(2)\n",
    "        suboutcomes.append(board[0:2])\n",
    "        print(suboutcomes)\n",
    "        outcomes.append(list(suboutcomes)) # append final set of boards\n",
    "        if n <100000:\n",
    "            if i % 1000 == 0:\n",
    "                print(\"Game {} finished\".format(i))\n",
    "        if n >100000 and n <1000000:\n",
    "            if i % 10000 == 0:\n",
    "                print(\"Game {} finished\".format(i))\n",
    "        if i % 1000 == 0:\n",
    "                print(\"Game {} finished\".format(i))\n",
    "    print(\"{} games have been played\".format(n))\n",
    "    return np.asarray(outcomes) #return array [[h,d,ace] score]\n",
    "\n",
    "outcomes = twoneorbust(game,10)\n",
    "#outcomes10k = twoneorbust(game,10000)\n",
    "#outcomes500k =twoneorbust(game,500000)\n",
    "\n"
   ]
  },
  {
   "cell_type": "markdown",
   "metadata": {},
   "source": [
    "## Check Shapes of outcome arrays"
   ]
  },
  {
   "cell_type": "code",
   "execution_count": 43,
   "metadata": {},
   "outputs": [
    {
     "name": "stdout",
     "output_type": "stream",
     "text": [
      "[[(14, 10, False) ((22, 10, False), -1) (11, 8, False)\n",
      "  ((18, 8, False), 0) (15, 10, False) ((21, 10, False), 0) (7, 7, False)\n",
      "  ((19, 7, False), 0) (11, 4, False) ((19, 4, False), 0) (12, 6, False)\n",
      "  ((19, 6, False), 0) (7, 10, False) ((22, 10, False), -1) (14, 3, False)\n",
      "  ((24, 3, False), -1) (15, 2, False) ((23, 2, False), -1) (15, 3, False)\n",
      "  ((25, 3, False), -1)]\n",
      " [(14, 10, False) ((22, 10, False), -1) (11, 8, False)\n",
      "  ((18, 8, False), 0) (15, 10, False) ((21, 10, False), 0) (7, 7, False)\n",
      "  ((19, 7, False), 0) (11, 4, False) ((19, 4, False), 0) (12, 6, False)\n",
      "  ((19, 6, False), 0) (7, 10, False) ((22, 10, False), -1) (14, 3, False)\n",
      "  ((24, 3, False), -1) (15, 2, False) ((23, 2, False), -1) (15, 3, False)\n",
      "  ((25, 3, False), -1)]\n",
      " [(14, 10, False) ((22, 10, False), -1) (11, 8, False)\n",
      "  ((18, 8, False), 0) (15, 10, False) ((21, 10, False), 0) (7, 7, False)\n",
      "  ((19, 7, False), 0) (11, 4, False) ((19, 4, False), 0) (12, 6, False)\n",
      "  ((19, 6, False), 0) (7, 10, False) ((22, 10, False), -1) (14, 3, False)\n",
      "  ((24, 3, False), -1) (15, 2, False) ((23, 2, False), -1) (15, 3, False)\n",
      "  ((25, 3, False), -1)]\n",
      " [(14, 10, False) ((22, 10, False), -1) (11, 8, False)\n",
      "  ((18, 8, False), 0) (15, 10, False) ((21, 10, False), 0) (7, 7, False)\n",
      "  ((19, 7, False), 0) (11, 4, False) ((19, 4, False), 0) (12, 6, False)\n",
      "  ((19, 6, False), 0) (7, 10, False) ((22, 10, False), -1) (14, 3, False)\n",
      "  ((24, 3, False), -1) (15, 2, False) ((23, 2, False), -1) (15, 3, False)\n",
      "  ((25, 3, False), -1)]\n",
      " [(14, 10, False) ((22, 10, False), -1) (11, 8, False)\n",
      "  ((18, 8, False), 0) (15, 10, False) ((21, 10, False), 0) (7, 7, False)\n",
      "  ((19, 7, False), 0) (11, 4, False) ((19, 4, False), 0) (12, 6, False)\n",
      "  ((19, 6, False), 0) (7, 10, False) ((22, 10, False), -1) (14, 3, False)\n",
      "  ((24, 3, False), -1) (15, 2, False) ((23, 2, False), -1) (15, 3, False)\n",
      "  ((25, 3, False), -1)]\n",
      " [(14, 10, False) ((22, 10, False), -1) (11, 8, False)\n",
      "  ((18, 8, False), 0) (15, 10, False) ((21, 10, False), 0) (7, 7, False)\n",
      "  ((19, 7, False), 0) (11, 4, False) ((19, 4, False), 0) (12, 6, False)\n",
      "  ((19, 6, False), 0) (7, 10, False) ((22, 10, False), -1) (14, 3, False)\n",
      "  ((24, 3, False), -1) (15, 2, False) ((23, 2, False), -1) (15, 3, False)\n",
      "  ((25, 3, False), -1)]\n",
      " [(14, 10, False) ((22, 10, False), -1) (11, 8, False)\n",
      "  ((18, 8, False), 0) (15, 10, False) ((21, 10, False), 0) (7, 7, False)\n",
      "  ((19, 7, False), 0) (11, 4, False) ((19, 4, False), 0) (12, 6, False)\n",
      "  ((19, 6, False), 0) (7, 10, False) ((22, 10, False), -1) (14, 3, False)\n",
      "  ((24, 3, False), -1) (15, 2, False) ((23, 2, False), -1) (15, 3, False)\n",
      "  ((25, 3, False), -1)]\n",
      " [(14, 10, False) ((22, 10, False), -1) (11, 8, False)\n",
      "  ((18, 8, False), 0) (15, 10, False) ((21, 10, False), 0) (7, 7, False)\n",
      "  ((19, 7, False), 0) (11, 4, False) ((19, 4, False), 0) (12, 6, False)\n",
      "  ((19, 6, False), 0) (7, 10, False) ((22, 10, False), -1) (14, 3, False)\n",
      "  ((24, 3, False), -1) (15, 2, False) ((23, 2, False), -1) (15, 3, False)\n",
      "  ((25, 3, False), -1)]\n",
      " [(14, 10, False) ((22, 10, False), -1) (11, 8, False)\n",
      "  ((18, 8, False), 0) (15, 10, False) ((21, 10, False), 0) (7, 7, False)\n",
      "  ((19, 7, False), 0) (11, 4, False) ((19, 4, False), 0) (12, 6, False)\n",
      "  ((19, 6, False), 0) (7, 10, False) ((22, 10, False), -1) (14, 3, False)\n",
      "  ((24, 3, False), -1) (15, 2, False) ((23, 2, False), -1) (15, 3, False)\n",
      "  ((25, 3, False), -1)]\n",
      " [(14, 10, False) ((22, 10, False), -1) (11, 8, False)\n",
      "  ((18, 8, False), 0) (15, 10, False) ((21, 10, False), 0) (7, 7, False)\n",
      "  ((19, 7, False), 0) (11, 4, False) ((19, 4, False), 0) (12, 6, False)\n",
      "  ((19, 6, False), 0) (7, 10, False) ((22, 10, False), -1) (14, 3, False)\n",
      "  ((24, 3, False), -1) (15, 2, False) ((23, 2, False), -1) (15, 3, False)\n",
      "  ((25, 3, False), -1)]]\n"
     ]
    }
   ],
   "source": [
    "print(outcomes)\n",
    "#print(outcomes10k.shape)\n",
    "#print(outcomes500k.shape)"
   ]
  },
  {
   "cell_type": "markdown",
   "metadata": {},
   "source": [
    "## Strip and Split outcomes by \"Useable Ace\" or \"No Useable Ace\" Cases"
   ]
  },
  {
   "cell_type": "code",
   "execution_count": 68,
   "metadata": {},
   "outputs": [
    {
     "name": "stdout",
     "output_type": "stream",
     "text": [
      "(1645, 4) [[21 7 True 1.0]\n",
      " [19 4 True 1.0]\n",
      " [21 9 True 1.0]\n",
      " [20 2 True 0]\n",
      " [20 2 True -1.0]]\n",
      "(19027, 4) [[21 10 False 0]\n",
      " [21 10 False 1.0]\n",
      " [20 4 False 1.0]\n",
      " [20 6 False 0.0]\n",
      " [15 4 False 0]]\n",
      "Cell has run\n"
     ]
    }
   ],
   "source": [
    "#print(outcomes[:10])\n",
    "def striplist (outcomes): \n",
    "    #print(outcomes)\n",
    "    harray=[]\n",
    "    darray=[]\n",
    "    aarray=[]\n",
    "    rarray=[]\n",
    "    for i in range (0,len(outcomes)):\n",
    "        (h,d,ace), reward = outcomes[i]\n",
    "        harray.append(h)\n",
    "        darray.append(d)\n",
    "        aarray.append(ace)\n",
    "        rarray.append(reward)\n",
    "    outcomesClean = pd.DataFrame([harray,darray,aarray,rarray])\n",
    "    outcomesClean= np.asarray(outcomesClean.T)\n",
    "    aarray= np.asarray(aarray)\n",
    "    Aoutcomes = np.where(aarray==True)\n",
    "    #print(Aoutcomes)\n",
    "    NAoutcomes = np.where(aarray==False)\n",
    "    #print(NAoutcomes)\n",
    "    return outcomesClean[Aoutcomes],outcomesClean[NAoutcomes]\n",
    "  \n",
    "\n",
    "Aoutcomes10k,NAoutcomes10k = striplist(outcomes10k) #make list of lists into a set of arrays for indexing\n",
    "print(Aoutcomes10k.shape,Aoutcomes10k[:5])\n",
    "print(NAoutcomes10k.shape,NAoutcomes10k[:5])\n",
    "\n",
    "\n",
    "print(\"Cell has run\")"
   ]
  },
  {
   "cell_type": "code",
   "execution_count": 69,
   "metadata": {},
   "outputs": [
    {
     "name": "stdout",
     "output_type": "stream",
     "text": [
      "[[        nan         nan         nan         nan         nan         nan\n",
      "          nan         nan         nan         nan         nan]\n",
      " [        nan         nan         nan         nan         nan         nan\n",
      "          nan         nan         nan         nan         nan]\n",
      " [        nan         nan         nan         nan         nan         nan\n",
      "          nan         nan         nan         nan         nan]\n",
      " [        nan         nan         nan         nan         nan         nan\n",
      "          nan         nan         nan         nan         nan]\n",
      " [        nan         nan         nan         nan         nan         nan\n",
      "          nan         nan         nan         nan         nan]\n",
      " [        nan         nan         nan         nan         nan         nan\n",
      "          nan         nan         nan         nan         nan]\n",
      " [        nan         nan         nan         nan         nan         nan\n",
      "          nan         nan         nan         nan         nan]\n",
      " [        nan         nan         nan         nan         nan         nan\n",
      "          nan         nan         nan         nan         nan]\n",
      " [        nan         nan         nan         nan         nan         nan\n",
      "          nan         nan         nan         nan         nan]\n",
      " [        nan         nan         nan         nan         nan         nan\n",
      "          nan         nan         nan         nan         nan]\n",
      " [        nan         nan         nan         nan         nan         nan\n",
      "          nan         nan         nan         nan         nan]\n",
      " [        nan         nan         nan         nan         nan         nan\n",
      "          nan         nan         nan         nan         nan]\n",
      " [        nan         nan         nan         nan         nan         nan\n",
      "          nan         nan         nan         nan         nan]\n",
      " [        nan         nan         nan         nan  0.                 nan\n",
      "   0.                 nan         nan         nan  0.        ]\n",
      " [        nan  0.                 nan  0.          0.          0.\n",
      "          nan  0.                 nan         nan  0.        ]\n",
      " [        nan  0.          0.          0.          0.          0.\n",
      "   0.          0.          0.                 nan  0.        ]\n",
      " [        nan  0.          0.          0.          0.          0.\n",
      "   0.          0.          0.          0.          0.        ]\n",
      " [        nan  0.          0.          0.          0.          0.\n",
      "   0.          0.          0.          0.          0.        ]\n",
      " [        nan -0.31578947  0.41666667  0.38709677  0.23529412  0.07142857\n",
      "  -0.1         0.4         0.1        -0.19047619 -0.05333333]\n",
      " [        nan -0.27777778  0.17391304  0.375       0.28571429  0.\n",
      "   0.10714286  0.36842105  0.44444444  0.23529412 -0.15151515]\n",
      " [        nan  0.16666667  0.48        0.56521739  0.46153846  0.58333333\n",
      "   0.59090909  0.65217391  0.41666667  0.61904762  0.26470588]\n",
      " [        nan  0.51612903  0.67741935  0.73333333  0.84313725  0.85416667\n",
      "   0.71428571  0.91666667  0.77358491  0.74576271  0.76233184]\n",
      " [        nan         nan         nan         nan         nan         nan\n",
      "          nan         nan         nan         nan         nan]\n",
      " [        nan         nan         nan         nan         nan         nan\n",
      "          nan         nan         nan         nan         nan]\n",
      " [        nan         nan         nan         nan         nan         nan\n",
      "          nan         nan         nan         nan         nan]\n",
      " [        nan         nan         nan         nan         nan         nan\n",
      "          nan         nan         nan         nan         nan]\n",
      " [        nan         nan         nan         nan         nan         nan\n",
      "          nan         nan         nan         nan         nan]\n",
      " [        nan         nan         nan         nan         nan         nan\n",
      "          nan         nan         nan         nan         nan]\n",
      " [        nan         nan         nan         nan         nan         nan\n",
      "          nan         nan         nan         nan         nan]\n",
      " [        nan         nan         nan         nan         nan         nan\n",
      "          nan         nan         nan         nan         nan]] [[        nan         nan         nan         nan         nan         nan\n",
      "          nan         nan         nan         nan         nan]\n",
      " [        nan         nan         nan         nan         nan         nan\n",
      "          nan         nan         nan         nan         nan]\n",
      " [        nan         nan         nan         nan         nan         nan\n",
      "          nan         nan         nan         nan         nan]\n",
      " [        nan         nan         nan         nan         nan         nan\n",
      "          nan         nan         nan         nan         nan]\n",
      " [        nan         nan         nan         nan         nan         nan\n",
      "          nan         nan         nan         nan         nan]\n",
      " [        nan         nan         nan         nan         nan         nan\n",
      "          nan         nan         nan         nan         nan]\n",
      " [        nan  0.                 nan         nan  0.                 nan\n",
      "          nan         nan         nan  0.          0.        ]\n",
      " [        nan         nan  0.          0.          0.          0.\n",
      "   0.          0.                 nan  0.          0.        ]\n",
      " [        nan  0.          0.          0.          0.          0.\n",
      "   0.          0.          0.          0.          0.        ]\n",
      " [        nan  0.          0.          0.          0.          0.\n",
      "   0.          0.          0.          0.          0.        ]\n",
      " [        nan  0.          0.          0.          0.          0.\n",
      "          nan  0.          0.          0.          0.        ]\n",
      " [        nan  0.          0.          0.          0.          0.\n",
      "   0.          0.          0.          0.          0.        ]\n",
      " [        nan  0.          0.          0.          0.          0.\n",
      "   0.          0.          0.          0.          0.        ]\n",
      " [        nan  0.          0.          0.          0.          0.\n",
      "   0.          0.          0.          0.          0.        ]\n",
      " [        nan  0.          0.          0.          0.          0.\n",
      "   0.          0.          0.          0.          0.        ]\n",
      " [        nan  0.          0.          0.          0.          0.\n",
      "   0.          0.          0.          0.          0.        ]\n",
      " [        nan  0.          0.          0.          0.          0.\n",
      "   0.          0.          0.          0.          0.        ]\n",
      " [        nan  0.          0.          0.          0.          0.\n",
      "   0.          0.          0.          0.          0.        ]\n",
      " [        nan -0.23333333  0.1686747   0.1037037   0.05780347  0.19653179\n",
      "   0.19620253  0.27096774  0.04487179 -0.12269939 -0.11208151]\n",
      " [        nan -0.02808989  0.25157233  0.16756757  0.16312057  0.24223602\n",
      "   0.22292994  0.375       0.37837838  0.12408759 -0.04405286]\n",
      " [        nan  0.08433735  0.44827586  0.46907216  0.46666667  0.46601942\n",
      "   0.51933702  0.4278607   0.57803468  0.57843137  0.28169014]\n",
      " [        nan  0.30769231  0.43859649  0.45        0.4122807   0.45901639\n",
      "   0.43103448  0.45833333  0.48148148  0.48148148  0.44444444]\n",
      " [        nan -0.94871795 -0.82051282 -0.78947368 -0.78181818 -0.81343284\n",
      "  -0.77857143 -0.83928571 -0.8852459  -0.88732394 -0.8828125 ]\n",
      " [        nan -0.95070423 -0.84042553 -0.859375   -0.79245283 -0.7962963\n",
      "  -0.78688525 -0.85849057 -0.93518519 -0.87288136 -0.89069767]\n",
      " [        nan -0.93478261 -0.81896552 -0.84       -0.83050847 -0.79310345\n",
      "  -0.8125     -0.86170213 -0.890625   -0.91304348 -0.88372093]\n",
      " [        nan -0.88181818 -0.82727273 -0.76612903 -0.77173913 -0.81818182\n",
      "  -0.84210526 -0.92045455 -0.875      -0.82857143 -0.89548023]\n",
      " [        nan -0.94871795 -0.85714286 -0.87142857 -0.81034483 -0.77906977\n",
      "  -0.75       -0.86363636 -0.93333333 -0.9        -0.89032258]\n",
      " [        nan -0.85483871 -0.8030303  -0.82758621 -0.703125   -0.7962963\n",
      "  -0.77586207 -0.87878788 -0.87878788 -0.92857143 -0.89855072]\n",
      " [        nan         nan         nan         nan         nan         nan\n",
      "          nan         nan         nan         nan         nan]\n",
      " [        nan         nan         nan         nan         nan         nan\n",
      "          nan         nan         nan         nan         nan]]\n"
     ]
    },
    {
     "name": "stderr",
     "output_type": "stream",
     "text": [
      "/anaconda3/lib/python3.7/site-packages/ipykernel_launcher.py:11: RuntimeWarning: invalid value encountered in true_divide\n",
      "  # This is added back by InteractiveShellApp.init_path()\n"
     ]
    }
   ],
   "source": [
    "def countrewards (outcomes): #pass outcomes in array [[h,d,ace] score]    \n",
    "    counts = np.zeros((30,11)) \n",
    "    rewards = np.zeros((30,11))\n",
    "    for i in range(0,len(outcomes)):\n",
    "        h= outcomes[i][0]\n",
    "        d= outcomes[i][1]\n",
    "        #reward= outcomes[i][-1][3]\n",
    "        rewards[h][d] += reward\n",
    "        counts[h][d]  += 1\n",
    "    #counts= np.where(counts is \"nan\",0,counts)\n",
    "    average = np.divide(rewards,counts)\n",
    "    return rewards,counts,average\n",
    "    \n",
    "Arewards10k,Acounts10k,Aavg10k = countrewards(Aoutcomes10k)\n",
    "NArewards10k,NAcounts10k,NAavg10k = countrewards(NAoutcomes10k)\n",
    "\n",
    "print(Aavg10k,NAavg10k)   "
   ]
  },
  {
   "cell_type": "code",
   "execution_count": 71,
   "metadata": {},
   "outputs": [
    {
     "name": "stdout",
     "output_type": "stream",
     "text": [
      "[[ 0.          0.          0.          0.          0.          0.\n",
      "   0.          0.          0.          0.          0.        ]\n",
      " [ 0.          0.          0.          0.          0.          0.\n",
      "   0.          0.          0.          0.          0.        ]\n",
      " [ 0.          0.          0.          0.          0.          0.\n",
      "   0.          0.          0.          0.          0.        ]\n",
      " [ 0.          0.          0.          0.          0.          0.\n",
      "   0.          0.          0.          0.          0.        ]\n",
      " [ 0.          0.          0.          0.          0.          0.\n",
      "   0.          0.          0.          0.          0.        ]\n",
      " [ 0.          0.          0.          0.          0.          0.\n",
      "   0.          0.          0.          0.          0.        ]\n",
      " [ 0.          0.          0.          0.          0.          0.\n",
      "   0.          0.          0.          0.          0.        ]\n",
      " [ 0.          0.          0.          0.          0.          0.\n",
      "   0.          0.          0.          0.          0.        ]\n",
      " [ 0.          0.          0.          0.          0.          0.\n",
      "   0.          0.          0.          0.          0.        ]\n",
      " [ 0.          0.          0.          0.          0.          0.\n",
      "   0.          0.          0.          0.          0.        ]\n",
      " [ 0.          0.          0.          0.          0.          0.\n",
      "   0.          0.          0.          0.          0.        ]\n",
      " [ 0.          0.          0.          0.          0.          0.\n",
      "   0.          0.          0.          0.          0.        ]\n",
      " [ 0.          0.          0.          0.          0.          0.\n",
      "   0.          0.          0.          0.          0.        ]\n",
      " [ 0.          0.          0.          0.          0.          0.\n",
      "   0.          0.          0.          0.          0.        ]\n",
      " [ 0.          0.          0.          0.          0.          0.\n",
      "   0.          0.          0.          0.          0.        ]\n",
      " [ 0.          0.          0.          0.          0.          0.\n",
      "   0.          0.          0.          0.          0.        ]\n",
      " [ 0.          0.          0.          0.          0.          0.\n",
      "   0.          0.          0.          0.          0.        ]\n",
      " [ 0.          0.          0.          0.          0.          0.\n",
      "   0.          0.          0.          0.          0.        ]\n",
      " [ 0.         -0.23333333  0.1686747   0.1037037   0.05780347  0.19653179\n",
      "   0.19620253  0.27096774  0.04487179 -0.12269939 -0.11208151]\n",
      " [ 0.         -0.02808989  0.25157233  0.16756757  0.16312057  0.24223602\n",
      "   0.22292994  0.375       0.37837838  0.12408759 -0.04405286]\n",
      " [ 0.          0.08433735  0.44827586  0.46907216  0.46666667  0.46601942\n",
      "   0.51933702  0.4278607   0.57803468  0.57843137  0.28169014]\n",
      " [ 0.          0.30769231  0.43859649  0.45        0.4122807   0.45901639\n",
      "   0.43103448  0.45833333  0.48148148  0.48148148  0.44444444]\n",
      " [ 0.         -0.94871795 -0.82051282 -0.78947368 -0.78181818 -0.81343284\n",
      "  -0.77857143 -0.83928571 -0.8852459  -0.88732394 -0.8828125 ]\n",
      " [ 0.         -0.95070423 -0.84042553 -0.859375   -0.79245283 -0.7962963\n",
      "  -0.78688525 -0.85849057 -0.93518519 -0.87288136 -0.89069767]\n",
      " [ 0.         -0.93478261 -0.81896552 -0.84       -0.83050847 -0.79310345\n",
      "  -0.8125     -0.86170213 -0.890625   -0.91304348 -0.88372093]\n",
      " [ 0.         -0.88181818 -0.82727273 -0.76612903 -0.77173913 -0.81818182\n",
      "  -0.84210526 -0.92045455 -0.875      -0.82857143 -0.89548023]\n",
      " [ 0.         -0.94871795 -0.85714286 -0.87142857 -0.81034483 -0.77906977\n",
      "  -0.75       -0.86363636 -0.93333333 -0.9        -0.89032258]\n",
      " [ 0.         -0.85483871 -0.8030303  -0.82758621 -0.703125   -0.7962963\n",
      "  -0.77586207 -0.87878788 -0.87878788 -0.92857143 -0.89855072]\n",
      " [ 0.          0.          0.          0.          0.          0.\n",
      "   0.          0.          0.          0.          0.        ]\n",
      " [ 0.          0.          0.          0.          0.          0.\n",
      "   0.          0.          0.          0.          0.        ]]\n"
     ]
    }
   ],
   "source": [
    "Aavg10k[np.isnan(Aavg10k)] = 0\n",
    "NAavg10k[np.isnan(NAavg10k)]=0\n",
    "print(NAavg10k)\n"
   ]
  },
  {
   "cell_type": "code",
   "execution_count": 75,
   "metadata": {},
   "outputs": [
    {
     "data": {
      "image/png": "[encoded data removed]",
      "text/plain": [
       "<Figure size 720x360 with 4 Axes>"
      ]
     },
     "metadata": {
      "needs_background": "light"
     },
     "output_type": "display_data"
    }
   ],
   "source": [
    "%matplotlib inline\n",
    "import numpy as np\n",
    "import matplotlib.pyplot as plt\n",
    "# This import registers the 3D projection, but is otherwise unused.\n",
    "from mpl_toolkits.mplot3d import Axes3D  # noqa: F401 unused import\n",
    "\n",
    "plt.figure(figsize=(10, 5))\n",
    "\n",
    "plt.subplot(1, 2, 1)\n",
    "\n",
    "plt.imshow(Aavg10k,cmap='RdBu')\n",
    "plt.colorbar();\n",
    "\n",
    "#sns.scatterplot(x=, y=outcomes[[:][0][0][0])\n",
    "plt.xlabel(\"Dealer's Shown Card\", fontsize=14)\n",
    "plt.ylabel(\"Player's Hand Sum\", fontsize=14)\n",
    "plt.xlim(1, 10)\n",
    "plt.ylim(1, 27)\n",
    "plt.clim(-1,1)\n",
    "plt.title(\"Reward by Game Outcomes, \\n Useable Ace, 10k Games\", fontsize=14)\n",
    "\n",
    "\n",
    "plt.subplot(1, 2, 2)\n",
    "\n",
    "plt.imshow(NAavg10k,cmap='RdBu')\n",
    "plt.colorbar();\n",
    "plt.clim(-1,1)\n",
    "\n",
    "#sns.scatterplot(x=, y=outcomes[[:][0][0][0])\n",
    "plt.xlabel(\"Dealer's Shown Card\", fontsize=14)\n",
    "plt.ylabel(\"Player's Hand Sum\", fontsize=14)\n",
    "plt.xlim(1, 10)\n",
    "plt.ylim(1, 27)\n",
    "\n",
    "plt.title(\"Reward by Game Outcomes, \\n No Useable Ace, 10k Games\", fontsize=14)\n",
    "\n",
    "\n",
    "#plt.legend()\n",
    "plt.show()\n",
    "\n",
    "\n"
   ]
  },
  {
   "cell_type": "code",
   "execution_count": 76,
   "metadata": {},
   "outputs": [
    {
     "name": "stdout",
     "output_type": "stream",
     "text": [
      "(1645, 4) [[21 7 True 1.0]\n",
      " [19 4 True 1.0]\n",
      " [21 9 True 1.0]\n",
      " [20 2 True 0]\n",
      " [20 2 True -1.0]]\n",
      "(19027, 4) [[21 10 False 0]\n",
      " [21 10 False 1.0]\n",
      " [20 4 False 1.0]\n",
      " [20 6 False 0.0]\n",
      " [15 4 False 0]]\n"
     ]
    }
   ],
   "source": [
    "Aoutcomes500k,NAoutcomes500k = striplist(outcomes500k)\n",
    "print(Aoutcomes10k.shape,Aoutcomes10k[:5])\n",
    "print(NAoutcomes10k.shape,NAoutcomes10k[:5])"
   ]
  },
  {
   "cell_type": "code",
   "execution_count": 77,
   "metadata": {},
   "outputs": [
    {
     "name": "stdout",
     "output_type": "stream",
     "text": [
      "[[0. 0. 0. 0. 0. 0. 0. 0. 0. 0. 0.]\n",
      " [0. 0. 0. 0. 0. 0. 0. 0. 0. 0. 0.]\n",
      " [0. 0. 0. 0. 0. 0. 0. 0. 0. 0. 0.]\n",
      " [0. 0. 0. 0. 0. 0. 0. 0. 0. 0. 0.]\n",
      " [0. 0. 0. 0. 0. 0. 0. 0. 0. 0. 0.]]\n"
     ]
    },
    {
     "name": "stderr",
     "output_type": "stream",
     "text": [
      "/anaconda3/lib/python3.7/site-packages/ipykernel_launcher.py:11: RuntimeWarning: invalid value encountered in true_divide\n",
      "  # This is added back by InteractiveShellApp.init_path()\n"
     ]
    }
   ],
   "source": [
    "Arewards500k,Acounts500k,Aavg500k = countrewards(Aoutcomes500k)\n",
    "Aavg500k[np.isnan(Aavg500k)] = 0\n",
    "print(Aavg500k[-5:,])   "
   ]
  },
  {
   "cell_type": "code",
   "execution_count": 78,
   "metadata": {},
   "outputs": [
    {
     "name": "stdout",
     "output_type": "stream",
     "text": [
      "[[ 0.         -0.94411631 -0.81564002 -0.80902154 -0.80653951 -0.7937981\n",
      "  -0.7864606  -0.86998216 -0.87098214 -0.89081772 -0.89512596]\n",
      " [ 0.         -0.94123765 -0.82565789 -0.81787389 -0.80192503 -0.79613173\n",
      "  -0.78253615 -0.8793456  -0.88754598 -0.87909726 -0.89475073]\n",
      " [ 0.         -0.94969136 -0.82787917 -0.81623663 -0.80393443 -0.78970496\n",
      "  -0.78039465 -0.87319975 -0.88143989 -0.88840937 -0.89601594]\n",
      " [ 0.          0.          0.          0.          0.          0.\n",
      "   0.          0.          0.          0.          0.        ]\n",
      " [ 0.          0.          0.          0.          0.          0.\n",
      "   0.          0.          0.          0.          0.        ]]\n"
     ]
    },
    {
     "name": "stderr",
     "output_type": "stream",
     "text": [
      "/anaconda3/lib/python3.7/site-packages/ipykernel_launcher.py:11: RuntimeWarning: invalid value encountered in true_divide\n",
      "  # This is added back by InteractiveShellApp.init_path()\n"
     ]
    }
   ],
   "source": [
    "NArewards500k,NAcounts500k,NAavg500k = countrewards(NAoutcomes500k)\n",
    "NAavg500k[np.isnan(NAavg500k)]=0\n",
    "print(NAavg500k[-5:,])  "
   ]
  },
  {
   "cell_type": "code",
   "execution_count": 79,
   "metadata": {},
   "outputs": [
    {
     "data": {
      "image/png": "[encoded data removed]",
      "text/plain": [
       "<Figure size 720x360 with 4 Axes>"
      ]
     },
     "metadata": {
      "needs_background": "light"
     },
     "output_type": "display_data"
    }
   ],
   "source": [
    "%matplotlib inline\n",
    "import numpy as np\n",
    "import matplotlib.pyplot as plt\n",
    "# This import registers the 3D projection, but is otherwise unused.\n",
    "from mpl_toolkits.mplot3d import Axes3D  # noqa: F401 unused import\n",
    "\n",
    "plt.figure(figsize=(10, 5))\n",
    "\n",
    "plt.subplot(1, 2, 1)\n",
    "\n",
    "plt.imshow(Aavg500k,cmap='RdBu')\n",
    "plt.colorbar();\n",
    "\n",
    "#sns.scatterplot(x=, y=outcomes[[:][0][0][0])\n",
    "plt.xlabel(\"Dealer's Shown Card\", fontsize=14)\n",
    "plt.ylabel(\"Player's Hand Sum\", fontsize=14)\n",
    "plt.xlim(1, 10)\n",
    "plt.ylim(1, 30)\n",
    "plt.clim(-1,1)\n",
    "plt.title(\"Reward by Game Outcomes, \\n Useable Ace, 500k Games\", fontsize=14)\n",
    "\n",
    "\n",
    "plt.subplot(1, 2, 2)\n",
    "\n",
    "plt.imshow(NAavg500k,cmap='RdBu')\n",
    "plt.colorbar();\n",
    "plt.clim(-1,1)\n",
    "\n",
    "#sns.scatterplot(x=, y=outcomes[[:][0][0][0])\n",
    "plt.xlabel(\"Dealer's Shown Card\", fontsize=14)\n",
    "plt.ylabel(\"Player's Hand Sum\", fontsize=14)\n",
    "plt.xlim(1, 10)\n",
    "plt.ylim(1, 27)\n",
    "\n",
    "plt.title(\"Reward by Game Outcomes, \\n No Useable Ace, 500k Games\", fontsize=14)\n",
    "\n",
    "\n",
    "#plt.legend()\n",
    "plt.show()\n",
    "\n",
    "\n"
   ]
  },
  {
   "cell_type": "markdown",
   "metadata": {},
   "source": [
    "**ANSWER**"
   ]
  },
  {
   "cell_type": "markdown",
   "metadata": {},
   "source": [
    "## 3\n",
    "\n",
    "### [40 points] Perform Monte Carlo Control\n",
    "\n",
    "**(a)** Using Monte Carlo Control through policy iteration, estimate the optimal policy for playing our modified blackjack game to maximize rewards. \n",
    "\n",
    "In doing this, use the following assumptions:\n",
    "1. Initialize the value function and the state value function to all zeros\n",
    "2. Keep a running tally of the number of times the agent visited each state and chose an action. $N(s_t,a_t)$ is the number of times action $a$ has been selected from state $s$. You'll need this to compute the running average. You can implement an online average as: $\\bar{x}_{t} = \\frac{1}{N}x_t + \\frac{N-1}{N}\\bar{x}_{t-1}$ \n",
    "3. Use an $\\epsilon$-greedy exploration strategy with $\\epsilon_t = \\frac{N_0}{N_0 + N(s_t)}$, where we define $N_0 = 100$. Vary $N_0$ as needed.\n",
    "\n",
    "Show your result by plotting the optimal value function: $V^*(s) = max_a Q^*(s,a)$ and the optimal policy $\\pi^*(s)$. Create plots for these similar to Sutton and Barto, Figure 5.2 in the new draft edition, or 5.5 in the original edition. Your results SHOULD be very similar to the plots in that text. For these plots include:\n",
    "1. When you have a useable ace, plot the state space with the dealer's card on the x-axis, and the player's sum on the y-axis, and use the 'RdBu' matplotlib colormap and `imshow` to plot the value of each state under the policy described above. The domain of your x and y axes should include all possible states (2 to 21 for the player sum, and 1 to 10 for the dealer's visible card).\n",
    "2. Repeat (1) for the states without a usable ace.\n",
    "3. A plot of the optimal policy $\\pi^*(s)$ for the states with a usable ace (this plot could be an imshow plot with binary values).\n",
    "4. A plot of the optimal policy $\\pi^*(s)$ for the states without a usable ace (this plot could be an imshow plot with binary values).\n",
    "\n",
    "**(b)** Show a plot of the overall average reward per episode vs the number of episodes. What is the average reward your control strategy was able to achieve?\n",
    "\n",
    "*Note: convergence of this algorithm is extremely slow. You may need to let this run a few million episodes before the policy starts to converge. You're not expected to get EXACTLY the optimal policy, but it should be visibly close.* "
   ]
  },
  {
   "cell_type": "markdown",
   "metadata": {},
   "source": [
    "**ANSWER**"
   ]
  },
  {
   "cell_type": "markdown",
   "metadata": {},
   "source": [
    "## 4\n",
    "\n",
    "### [10 points] Discuss your findings\n",
    "\n",
    "Compare the performance of your human control policy, the naive policy from question 2, and the optimal control policy in question 3. \n",
    "**(a)** Which performs best? Why is this the case? \n",
    "**(b)** Could you have created a better policy if you knew the full Markov Decision Process for this environment? Why or why not?"
   ]
  },
  {
   "cell_type": "markdown",
   "metadata": {},
   "source": [
    "**ANSWER**"
   ]
  }
 ],
 "metadata": {
  "kernelspec": {
   "display_name": "Python 3",
   "language": "python",
   "name": "python3"
  },
  "language_info": {
   "codemirror_mode": {
    "name": "ipython",
    "version": 3
   },
   "file_extension": ".py",
   "mimetype": "text/x-python",
   "name": "python",
   "nbconvert_exporter": "python",
   "pygments_lexer": "ipython3",
   "version": "3.7.1"
  },
  "varInspector": {
   "cols": {
    "lenName": 16,
    "lenType": 16,
    "lenVar": 40
   },
   "kernels_config": {
    "python": {
     "delete_cmd_postfix": "",
     "delete_cmd_prefix": "del ",
     "library": "var_list.py",
     "varRefreshCmd": "print(var_dic_list())"
    },
    "r": {
     "delete_cmd_postfix": ") ",
     "delete_cmd_prefix": "rm(",
     "library": "var_list.r",
     "varRefreshCmd": "cat(var_dic_list()) "
    }
   },
   "types_to_exclude": [
    "module",
    "function",
    "builtin_function_or_method",
    "instance",
    "_Feature"
   ],
   "window_display": false
  }
 },
 "nbformat": 4,
 "nbformat_minor": 2
}
