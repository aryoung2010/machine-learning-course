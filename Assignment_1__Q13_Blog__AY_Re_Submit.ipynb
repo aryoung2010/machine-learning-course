{
 "cells": [
  {
   "cell_type": "markdown",
   "metadata": {},
   "source": [
    "# The Cost to Live \n",
    "## A National Picture on Insulin Prices for Medicare Patients\n",
    "\n",
    "### By Allison  Young\n",
    "## 2/11/2019\n",
    "\n",
    "Can you imagine if you had to pay a tax to breathe the oxygen we need in order to live?\n",
    "\n",
    "Imagine if this tax was assigned randomly, to 1 out of every 10 Americans, and you are one of the unfortunate lottery winners designated as an \"oxygen tax payer\", and you have to pay $100 a month , or they will take away your oxygen (please bear with me in suspending reality a bit for this analogy).\n",
    "\n",
    "Could you afford to breathe? Maybe? How about if you learned this tax was also increasing? Now, you have to pay $500 a month. \n",
    "\n",
    "Most people could not afford this fictional tax. As the chart below, from Data USA, demonstrates, while the mean income in Durham, NC may be more than $50,000 a year, the majority of residents make less $40k a year(1). "
   ]
  },
  {
   "cell_type": "code",
   "execution_count": 1,
   "metadata": {},
   "outputs": [
    {
     "data": {
      "text/html": [
       "<iframe width=\"720px\" height=\"480px\" src=\"https://embed.datausa.io/profile/geo/durham-nc/economy/income_distro?\" frameborder=\"0\" ></iframe>"
      ],
      "text/plain": [
       "<IPython.core.display.HTML object>"
      ]
     },
     "metadata": {},
     "output_type": "display_data"
    }
   ],
   "source": [
    "from IPython.core.display import display, HTML\n",
    "display(HTML('<iframe width=\"720px\" height=\"480px\" src=\"https://embed.datausa.io/profile/geo/durham-nc/economy/income_distro?\" frameborder=\"0\" ></iframe>'))"
   ]
  },
  {
   "cell_type": "markdown",
   "metadata": {},
   "source": [
    "Because we can't have people just passing out on the street, we will say you can get get assistance to pay this unreasonable tax.  \n",
    "\n",
    "But there is a catch! In order to receive assistance, you have to continually fill out paperwork every month, and have providers sign a piece of paper that affirms that yes, indeed, you still need oxygen to live. And you still have to pay $50 a month. \n",
    " \n",
    "If this doesn't sound fair, I agree with you; but, this burden is a reality for 1 in 10 Americans. This fictional analogy is not so different from the challenge individuals who have won the unfortunate genetic lottery and have a Diabetes diagnosis face when trying to get insulin, a diabetic's oxygen. \n",
    "\n",
    "Individuals with Diabetes are not able to regulate their blood sugar, and rely on daily injections of insulin to live. In type II Diabetes, there are some lifestyle factors which may increase one's risk of developing the disease. However, those with Type I Diabetes,also known as Juvenile Diabetes, are born with this condition. \n",
    "\n",
    "In the United States, there are approximately 1.25 million people in the United States with Type I Diabetes. My partner is one of them. She struggles regularly to balance wanting to maintain her independance as a productive member of society, and being able to afford her medications. She has to work to pay for her healthcare, but working also makes her health worse. But if she wants to exit this cycle, she would need to apply for disability support. On disability support, she would no longer be allowed to work at any job that would pay her more than $14,000 a year, thus sacrificing any semblance of financial independance (3). \n",
    "\n",
    "\n",
    "*Seeing my partner struggle to manage the financial cost of her disease, prompted me to wonder- how much is the US Government paying for these individuals who are unable to afford the sky-rocketing expenses of insulin?* \n",
    "\n",
    "This brought me to the following research question:\n",
    "\n",
    "## How does the cost-burden of insulin compare to other common drugs utilized by a similar population of Medicare patients?\n",
    "\n",
    "To answer this question, I examined **prescribed drug data for Medicaid D patients**, made available by the Centers for Medicare and Medicaid Services (CMS)(4). The data set I used is from 2014.\n",
    "\n",
    "For this initial exploration, I used a dataset available at the drug-name level. In future analyses, I could use what I learn to develop more detailed research questions regarding North Carolina Residents and look at the full data set by the prescriber. However, this dataset is extremely large, with more than a million records. \n",
    "\n",
    "Therefore, an initial proof of concept is a good place to start, to understand big-picture themes that can guide further digging.\n",
    "\n",
    "Below, is a preview of the actual dataset:\n"
   ]
  },
  {
   "cell_type": "code",
   "execution_count": 2,
   "metadata": {},
   "outputs": [
    {
     "name": "stdout",
     "output_type": "stream",
     "text": [
      "                         Drug Name                     Generic Name  \\\n",
      "0        1ST TIER UNIFINE PENTIPS      NEEDLES, INSULIN DISPOSABLE    \n",
      "1        1ST TIER UNIFINE PENTIPS   PEN NEEDLE, DIABETIC,DISP UNIT    \n",
      "2   1ST TIER UNIFINE PENTIPS PLUS      NEEDLES, INSULIN DISPOSABLE    \n",
      "3                        ABACAVIR                 ABACAVIR SULFATE    \n",
      "4  ABACAVIR-LAMIVUDINE-ZIDOVUDINE   ABACAVIR/LAMIVUDINE/ZIDOVUDINE    \n",
      "\n",
      "  Number of Prescribers  Number of Medicare Part D Claims  \\\n",
      "0                  1424                              5314   \n",
      "1                   877                              1474   \n",
      "2                   605                              1137   \n",
      "3                  5377                             68225   \n",
      "4                  1625                             12195   \n",
      "\n",
      "   Number of Standardized 30-Day Part D Fills  \\\n",
      "0                                      7970.1   \n",
      "1                                      2687.5   \n",
      "2                                      1939.6   \n",
      "3                                     74525.4   \n",
      "4                                     13101.2   \n",
      "\n",
      "   Aggregate Cost Paid for Part D Claims Number of Medicare Beneficiaries  \\\n",
      "0                              114339.09                             1874   \n",
      "1                               36410.57                              895   \n",
      "2                               27282.97                              619   \n",
      "3                            27949145.65                             9072   \n",
      "4                            17158448.05                             1820   \n",
      "\n",
      "  GE65 Suppression Flag  \\\n",
      "0                         \n",
      "1                         \n",
      "2                         \n",
      "3                         \n",
      "4                         \n",
      "\n",
      "  Number of Medicare Part D Claims for Beneficiaries 65+  \\\n",
      "0                                               3936       \n",
      "1                                               1122       \n",
      "2                                                827       \n",
      "3                                              18155       \n",
      "4                                               3242       \n",
      "\n",
      "  Number of Standardized 30-Day Part D Fills for Beneficiaries 65+  \\\n",
      "0                                               5927                 \n",
      "1                                             2108.8                 \n",
      "2                                             1435.3                 \n",
      "3                                            20633.5                 \n",
      "4                                             3638.9                 \n",
      "\n",
      "            ...             \\\n",
      "0           ...              \n",
      "1           ...              \n",
      "2           ...              \n",
      "3           ...              \n",
      "4           ...              \n",
      "\n",
      "  Aggregate Cost Share for Beneficiaries with No Low Income Subsidy  \\\n",
      "0                                           34866.32                  \n",
      "1                                           12737.87                  \n",
      "2                                            7469.99                  \n",
      "3                                          493107.81                  \n",
      "4                                          320197.13                  \n",
      "\n",
      "  Opioid Drug Flag Opioid Bool  Long-Acting Opioid Drug Flag  \\\n",
      "0               N          NaN                            N    \n",
      "1               N          NaN                            N    \n",
      "2               N          NaN                            N    \n",
      "3               N          NaN                            N    \n",
      "4               N          NaN                            N    \n",
      "\n",
      "   Long-Acting Opioid Bool Antibiotic Drug Flag  Antibiotic Drug Bool  \\\n",
      "0                      NaN                   N                    NaN   \n",
      "1                      NaN                   N                    NaN   \n",
      "2                      NaN                   N                    NaN   \n",
      "3                      NaN                   N                    NaN   \n",
      "4                      NaN                   N                    NaN   \n",
      "\n",
      "  Antipsychotic Drug Flag  Antipsychotic Drug Bool Diabetes Related Flag_AY  \n",
      "0                      N                       NaN                        Y  \n",
      "1                      N                       NaN                      NaN  \n",
      "2                      N                       NaN                        Y  \n",
      "3                      N                       NaN                      NaN  \n",
      "4                      N                       NaN                      NaN  \n",
      "\n",
      "[5 rows x 24 columns]\n"
     ]
    }
   ],
   "source": [
    "import pandas as pd\n",
    "meddata = pd.read_excel(\"Prescription_Data_Medicaid_2014.xlsx\")\n",
    "df = pd.DataFrame(meddata)\n",
    "print (df.head(5))"
   ]
  },
  {
   "cell_type": "markdown",
   "metadata": {},
   "source": [
    "#### The Dataset.\n",
    "\n",
    "Below is a list of the variables included in this dataset:"
   ]
  },
  {
   "cell_type": "code",
   "execution_count": 3,
   "metadata": {},
   "outputs": [
    {
     "name": "stdout",
     "output_type": "stream",
     "text": [
      "Number of Field Names: 24\n",
      "['Drug Name', 'Generic Name', 'Number of Prescribers', 'Number of Medicare Part D Claims', 'Number of Standardized 30-Day Part D Fills', 'Aggregate Cost Paid for Part D Claims', 'Number of Medicare Beneficiaries', 'GE65 Suppression Flag', 'Number of Medicare Part D Claims for Beneficiaries 65+', 'Number of Standardized 30-Day Part D Fills for Beneficiaries 65+', 'Aggregate Cost Paid for Part D Claims for Beneficiaries 65+', 'Beneficiary 65+ Suppression Flag', 'Number of Medicare Beneficiaries 65+', 'Aggregate Cost Share for Beneficiaries with Low Income Subsidy', 'Aggregate Cost Share for Beneficiaries with No Low Income Subsidy', 'Opioid Drug Flag', 'Opioid Bool', 'Long-Acting Opioid Drug Flag', 'Long-Acting Opioid Bool', 'Antibiotic Drug Flag', 'Antibiotic Drug Bool', 'Antipsychotic Drug Flag', 'Antipsychotic Drug Bool', 'Diabetes Related Flag_AY']\n",
      "\n",
      "\n",
      "Unique Drug Names:  3163\n"
     ]
    }
   ],
   "source": [
    "print (\"Number of Field Names:\" , len(list(df)))\n",
    "print (list(df))\n",
    "drugs = df['Drug Name'].unique()\n",
    "print (\"\\n\")\n",
    "print (\"Unique Drug Names: \",len(drugs))"
   ]
  },
  {
   "cell_type": "markdown",
   "metadata": {},
   "source": [
    "\n",
    "There are **3,163 different medications** in this dataset.\n",
    "For each drug, the dataset includes information on the following:\n",
    "* Drug Name\n",
    "* Generic Name\n",
    "* Number of Prescribers \n",
    "* Number of Medicare Part D Claims \n",
    "* Number of Standardized 30-Day Part D Fills \n",
    "* Aggregate Cost Paid for Part D Claims\n",
    "* Number of Medicare Beneficiaries \n",
    "* Number of Medicare Part D Claims for Beneficiaries 65+ \n",
    "* Number of Standardized 30-Day Part D Fills for Beneficiaries 65+ \n",
    "* Aggregate Cost Paid for Part D Claims for Beneficiaries 65+\n",
    "* Number of Medicare Beneficiaries 65+ \n",
    "* Aggregate Cost Share for Beneficiaries with Low Income Subsidy \n",
    "* Aggregate Cost Share for Beneficiaries with No Low Income Subsidy \n",
    "\n",
    "There are also fields to give information on the size of data, and if certain measures have been **supressed**, including:\n",
    "\n",
    "* Beneficiary 65+ Suppression Flag \n",
    "* GE65 Suppression Flag \n",
    "\n",
    "Finally, the data have four **\"Flags\"** used to help group the types of drugs.\n",
    "\n",
    "* Opioid Drug Flag \n",
    "* Long-Acting Opioid Drug Flag \n",
    "* Antibiotic Drug Flag \n",
    "* Antipsychotic Drug Flag \n",
    "\n",
    "*In this comparison, I will look specifically at a group of diabetes-related drugs (self-defined), as compared to the drug set flaged by the Opioid Drug Flags and Antipsychotic Drug Flags.*\n",
    "\n",
    "#### Data Cleaning\n",
    "\n",
    "As these data are maintained and cleaned by a large government agency, they are relatively complete and clean. However, it will be important to keep in mind the fields that may be supressed when looking at specific subgroups. Providers with fewer than 11 claims are entirely excluded from both this dataset, and the detailed dataset.\n",
    "\n",
    "Additional fields are also included in the full dataset, as described in the CMS methodology documentation(5). Further investigation would need to take these into account, as the risk of suppression is much greater as the geography shrinks.\n",
    "\n"
   ]
  },
  {
   "cell_type": "markdown",
   "metadata": {},
   "source": [
    "#### Data Transformations\n",
    "\n",
    "In order to perform this analysis, it is necessary to create a user-defined variable of \"Diabetes Drug Flag\" to compare insulin drugs as a group to that of Opioids.\n",
    "\n",
    "To do this, I used a reference website to identify the most common drug names for insulin product, and used the generic name field to identify additional insulin related records.\n",
    "\n",
    "The most common insulin drugs used include:\n",
    "* Humalog\n",
    "* Novolog\n",
    "* Apidra\n",
    "* Novolin\n",
    "* Velosulin\n",
    "* Basaglar\n",
    "* Lantus\n",
    "* Toujeo\n",
    "* Levemir\n",
    "* Degludec\n",
    "\n",
    "Using the generic drug field, I included the generic versions of these drugs, as well as other necessary products, such as syringes, and flexpens.\n",
    "\n"
   ]
  },
  {
   "cell_type": "code",
   "execution_count": 4,
   "metadata": {},
   "outputs": [
    {
     "data": {
      "text/plain": [
       "0       Y\n",
       "1     NaN\n",
       "2       Y\n",
       "3     NaN\n",
       "4     NaN\n",
       "5     NaN\n",
       "6     NaN\n",
       "7     NaN\n",
       "8     NaN\n",
       "9     NaN\n",
       "10    NaN\n",
       "11    NaN\n",
       "12    NaN\n",
       "13    NaN\n",
       "14    NaN\n",
       "Name: Diabetes Related Flag_AY, dtype: object"
      ]
     },
     "execution_count": 4,
     "metadata": {},
     "output_type": "execute_result"
    }
   ],
   "source": [
    "df['Diabetes Related Flag_AY'].head(15)"
   ]
  },
  {
   "cell_type": "code",
   "execution_count": 5,
   "metadata": {},
   "outputs": [
    {
     "name": "stdout",
     "output_type": "stream",
     "text": [
      "Number of Diabetes Related Drugs:  75\n"
     ]
    }
   ],
   "source": [
    "diabetes = df.loc[df['Diabetes Related Flag_AY']=='Y']\n",
    "\n",
    "diabetes.head(5)\n",
    "print (\"Number of Diabetes Related Drugs: \", len(diabetes))"
   ]
  },
  {
   "cell_type": "code",
   "execution_count": 6,
   "metadata": {},
   "outputs": [
    {
     "name": "stdout",
     "output_type": "stream",
     "text": [
      "Total Expenditures for Diabetes Medications, 2014: $8,484,299,218.08\n"
     ]
    }
   ],
   "source": [
    "#diabsum = diabetes.describe() # Difficult to read\n",
    "print (\"Total Expenditures for Diabetes Medications, 2014: ${0:,.2f}\".format(sum(diabetes['Aggregate Cost Paid for Part D Claims'])))\n",
    "\n"
   ]
  },
  {
   "cell_type": "code",
   "execution_count": 7,
   "metadata": {},
   "outputs": [
    {
     "data": {
      "text/plain": [
       "0     NaN\n",
       "1     NaN\n",
       "2     NaN\n",
       "3     NaN\n",
       "4     NaN\n",
       "5     NaN\n",
       "6     NaN\n",
       "7     NaN\n",
       "8     NaN\n",
       "9     NaN\n",
       "10    NaN\n",
       "11    1.0\n",
       "12    NaN\n",
       "13    NaN\n",
       "14    NaN\n",
       "Name: Opioid Bool, dtype: float64"
      ]
     },
     "execution_count": 7,
     "metadata": {},
     "output_type": "execute_result"
    }
   ],
   "source": [
    "df['Opioid Bool'].head(15)"
   ]
  },
  {
   "cell_type": "code",
   "execution_count": 8,
   "metadata": {},
   "outputs": [
    {
     "name": "stdout",
     "output_type": "stream",
     "text": [
      "\n",
      "\n",
      "Number of Flagged Opioid Drugs:  96\n",
      "Number of Flagged Long-Acting Opioid Drugs:  25\n"
     ]
    }
   ],
   "source": [
    "\n",
    "opioid = pd.DataFrame()\n",
    "LAO = pd.DataFrame()\n",
    "opioid = df.loc[df['Opioid Bool']==1]\n",
    "opU = opioid['Drug Name'].unique()\n",
    "print (\"\\n\")\n",
    "print (\"Number of Flagged Opioid Drugs: \",len(opU))\n",
    "LAO = df.loc[df['Long-Acting Opioid Bool']==1]\n",
    "LAOU = LAO['Drug Name'].unique()\n",
    "print (\"Number of Flagged Long-Acting Opioid Drugs: \", len(LAOU))\n",
    "\n",
    "#opioid.head(5)\n",
    "\n",
    "#print(LAO)\n",
    "#print(LAOU)"
   ]
  },
  {
   "cell_type": "markdown",
   "metadata": {},
   "source": [
    "#### Data Context\n",
    "\n",
    "There are **96** Drugs flagged as \"Opioid Drugs\", and of these, **25** are flagged as \"Long-lasting Opioid drugs\". For the purposes of this analysis I will treat the 96 drugs flagged as \"Opioid Drugs\" for comparison, as the 25 long-acting drugs will also be included.\n",
    "\n",
    "Using the flag I developed, there are **75** Diabetes related drugs and products.\n",
    "\n"
   ]
  },
  {
   "cell_type": "code",
   "execution_count": 9,
   "metadata": {},
   "outputs": [
    {
     "name": "stdout",
     "output_type": "stream",
     "text": [
      "Total Expenditures for Opioid Medications, 2014: $4,105,345,169.54\n",
      "Total Expenditures for Diabetes Medications, 2014: $8,484,299,218.08\n",
      "Total Expenditures for Opioid Medications,Low Income Subsidy, 2014: $58,944,069.41\n",
      "Total Expenditures for Diabetes Medications,Low Income Subsidy, 2014: $50,065,626.37\n",
      "Total Expenditures for Opioid Medications,No Low Income Subsidy, 2014: $504,943,250.58\n",
      "Total Expenditures for Diabetes Medications,No Low Income Subsidy, 2014: $722,592,623.13\n"
     ]
    }
   ],
   "source": [
    "\n",
    "import matplotlib as plt\n",
    "exop = sum(opioid['Aggregate Cost Paid for Part D Claims'])\n",
    "print (\"Total Expenditures for Opioid Medications, 2014: ${0:,.2f}\".format(exop))\n",
    "\n",
    "exdiab = sum(diabetes['Aggregate Cost Paid for Part D Claims'])\n",
    "#print (\"Total Expenditures for Long-Acting Opioid Medications, 2014: ${0:,.2f}\".format(sum(LAO['Aggregate Cost Paid for Part D Claims'])))\n",
    "print (\"Total Expenditures for Diabetes Medications, 2014: ${0:,.2f}\".format(exdiab))\n",
    "\n",
    "exopLI = sum(opioid['Aggregate Cost Share for Beneficiaries with Low Income Subsidy'])\n",
    "print (\"Total Expenditures for Opioid Medications,Low Income Subsidy, 2014: ${0:,.2f}\".format(exopLI))\n",
    "\n",
    "exdiabLI = sum(diabetes['Aggregate Cost Share for Beneficiaries with Low Income Subsidy'])\n",
    "#print (\"Total Expenditures for Long-Acting Opioid Medications, 2014: ${0:,.2f}\".format(sum(LAO['Aggregate Cost Paid for Part D Claims'])))\n",
    "print (\"Total Expenditures for Diabetes Medications,Low Income Subsidy, 2014: ${0:,.2f}\".format(exdiabLI))\n",
    "\n",
    "\n",
    "exopnLI = sum(opioid['Aggregate Cost Share for Beneficiaries with No Low Income Subsidy'])\n",
    "print (\"Total Expenditures for Opioid Medications,No Low Income Subsidy, 2014: ${0:,.2f}\".format(exopnLI))\n",
    "\n",
    "exdiabnLI = sum(diabetes['Aggregate Cost Share for Beneficiaries with No Low Income Subsidy'])\n",
    "#print (\"Total Expenditures for Long-Acting Opioid Medications, 2014: ${0:,.2f}\".format(sum(LAO['Aggregate Cost Paid for Part D Claims'])))\n",
    "print (\"Total Expenditures for Diabetes Medications,No Low Income Subsidy, 2014: ${0:,.2f}\".format(exdiabnLI))\n"
   ]
  },
  {
   "cell_type": "markdown",
   "metadata": {},
   "source": [
    "## In 2014, the cost for diabetes medications and products cost more than twice as much as those for opioids."
   ]
  },
  {
   "cell_type": "code",
   "execution_count": 12,
   "metadata": {},
   "outputs": [
    {
     "data": {
      "image/png": "[encoded data removed]",
      "text/plain": [
       "<Figure size 432x288 with 1 Axes>"
      ]
     },
     "metadata": {
      "needs_background": "light"
     },
     "output_type": "display_data"
    },
    {
     "data": {
      "image/png": "[encoded data removed]",
      "text/plain": [
       "<Figure size 432x288 with 1 Axes>"
      ]
     },
     "metadata": {
      "needs_background": "light"
     },
     "output_type": "display_data"
    }
   ],
   "source": [
    "from matplotlib.ticker import FuncFormatter\n",
    "import matplotlib.pyplot as plt\n",
    "import numpy as np\n",
    "\n",
    "x = [\"Diabetes\", \"Opioids\"]\n",
    "y = [exop,exdiab]\n",
    "\n",
    "\n",
    "def billions(x, pos):\n",
    "    'The two args are the value and tick position'\n",
    "    return '$%1.1fB' % (x * 1e-9)\n",
    "\n",
    "\n",
    "formatter = FuncFormatter(billions)\n",
    "\n",
    "fig, ax = plt.subplots()\n",
    "ax.yaxis.set_major_formatter(formatter)\n",
    "plt.bar(x, y)\n",
    "#plt.bar(x, y, width, color=\"blue\")\n",
    "plt.title(\"Cost of Drug Groups to Medicare, 2014 (Billions)\")\n",
    "plt.xlabel(\"Drug Group\")\n",
    "plt.ylabel(\"Total Part D Claim Expenditures\")\n",
    "plt.show()\n",
    "\n",
    "from matplotlib.ticker import FuncFormatter\n",
    "import matplotlib.pyplot as plt\n",
    "import numpy as np\n",
    "\n",
    "#x2 = [\"Diabetes\", \"Opioids\"]\n",
    "y2 = [exopLI,exdiabLI]\n",
    "\n",
    "\n",
    "def millions(x, pos):\n",
    "    'The two args are the value and tick position'\n",
    "    return '$%1.1fM' % (x * 1e-6)\n",
    "\n",
    "def thousands(x, pos):\n",
    "    'The two args are the value and tick position'\n",
    "    return '$%1.1fK' % (x * 1e-3)\n",
    "\n",
    "def percent(x, pos):\n",
    "    'The two args are the value and tick position'\n",
    "    return '%1.1f' % (x * 100)\n",
    "\n",
    "def dollars(x, pos):\n",
    "    'The two args are the value and tick position'\n",
    "    return '$%1.1f' % (x)\n",
    "\n",
    "formatter = FuncFormatter(millions)\n",
    "\n",
    "fig, ax = plt.subplots()\n",
    "ax.yaxis.set_major_formatter(formatter)\n",
    "plt.bar(x, y2,color=\"skyblue\")\n",
    "plt.title(\"Cost of Drug Groups to Medicare for Low Income Subsidy Beneficiaries, 2014 (Millions)\")\n",
    "plt.xlabel(\"Drug Group\")\n",
    "plt.ylabel(\"Total Part D Claim Expenditures\")\n",
    "plt.show()\n"
   ]
  },
  {
   "cell_type": "markdown",
   "metadata": {},
   "source": [
    "## Looking both at Diabetes medications and Opioid medications, low income beneficiaries receiving diabetes medication cost more to Medicare than low-income opioid medication recipients. "
   ]
  },
  {
   "cell_type": "code",
   "execution_count": 11,
   "metadata": {},
   "outputs": [
    {
     "name": "stdout",
     "output_type": "stream",
     "text": [
      "Total Number of Opioid Filled Prescriptions on Medicare, 2014: 87,161,165\n",
      "Total Number of Diabetes Filled Prescriptions on Medicare, 2014: 36,192,888\n",
      "Average Cost per perscription to Medicare, Opioids, 2014: 47\n",
      "Average Cost per perscription to Medicare, Diabetes, 2014: 234\n"
     ]
    },
    {
     "data": {
      "image/png": "[encoded data removed]",
      "text/plain": [
       "<Figure size 432x288 with 1 Axes>"
      ]
     },
     "metadata": {
      "needs_background": "light"
     },
     "output_type": "display_data"
    },
    {
     "data": {
      "image/png": "[encoded data removed]",
      "text/plain": [
       "<Figure size 432x288 with 1 Axes>"
      ]
     },
     "metadata": {
      "needs_background": "light"
     },
     "output_type": "display_data"
    }
   ],
   "source": [
    "\n",
    "perLIdiab = exdiabLI/exdiab\n",
    "perLIop = exopLI/exop\n",
    "\n",
    "y3 = [perLIdiab,perLIop]\n",
    "\n",
    "\n",
    "numpop = sum(opioid['Number of Standardized 30-Day Part D Fills'])\n",
    "print (\"Total Number of Opioid Filled Prescriptions on Medicare, 2014: {0:,.0f}\".format(numpop))\n",
    "\n",
    "\n",
    "numpdiab = sum(diabetes['Number of Standardized 30-Day Part D Fills'])\n",
    "#print (\"Total Expenditures for Long-Acting Opioid Medications, 2014: ${0:,.2f}\".format(sum(LAO['Aggregate Cost Paid for Part D Claims'])))\n",
    "print (\"Total Number of Diabetes Filled Prescriptions on Medicare, 2014: {0:,.0f}\".format(numpdiab))\n",
    "\n",
    "#print(sum(opioid['Number of Medicare Beneficiaries']))\n",
    "#print (\"Total Number of Opioid Beneficiaries by Perscription (may include duplicates), 2014: {0:,.0f}\".format(numbop))\n",
    "\n",
    "cost_per_op = exop/numpop\n",
    "\n",
    "cost_per_diab= exdiab/numpdiab\n",
    "\n",
    "print (\"Average Cost per perscription to Medicare, Opioids, 2014: {0:,.0f}\".format(cost_per_op))\n",
    "print (\"Average Cost per perscription to Medicare, Diabetes, 2014: {0:,.0f}\".format(cost_per_diab))\n",
    "\n",
    "formatter = FuncFormatter(percent)\n",
    "\n",
    "\n",
    "fig, ax = plt.subplots()\n",
    "ax.yaxis.set_major_formatter(formatter)\n",
    "plt.bar(x, y3, color=\"orange\")\n",
    "#plt.bar(x, y, width, color=\"blue\")\n",
    "plt.title(\"Percent of Expenses Coming from Low Income Subsidy Beneficiaries, 2014\")\n",
    "plt.xlabel(\"Drug Group\")\n",
    "plt.ylabel(\"Percent of Claim Expenses\")\n",
    "plt.show()\n",
    "\n",
    "y4 = [cost_per_diab, cost_per_op]\n",
    "\n",
    "formatter = FuncFormatter(dollars)\n",
    "\n",
    "\n",
    "fig, ax = plt.subplots()\n",
    "ax.yaxis.set_major_formatter(formatter)\n",
    "plt.bar(x, y4, color=\"purple\")\n",
    "#plt.bar(x, y, width, color=\"blue\")\n",
    "plt.title(\"Average Cost per Prescription to Medicare, 2014\")\n",
    "plt.xlabel(\"Drug Group\")\n",
    "plt.ylabel(\"Percent of Claim Expenses\")\n",
    "plt.show()\n",
    "#numbdiab = sum(diabetes['Number of Medicare Beneficiaries'])\n",
    "#print (\"Total Expenditures for Long-Acting Opioid Medications, 2014: ${0:,.2f}\".format(sum(LAO['Aggregate Cost Paid for Part D Claims'])))\n",
    "#print (\"Total Number of Opioid Beneficiaries by Percription (may include duplicates),  2014: {0:,.0f}\".format(numbdiab))\n"
   ]
  },
  {
   "cell_type": "markdown",
   "metadata": {},
   "source": [
    "## However, the cost per prescription is much higher for diabetes patients than patients seeking opioid prescriptions; which one may presume means higher patient-share expenses for diabetes patients."
   ]
  },
  {
   "cell_type": "markdown",
   "metadata": {},
   "source": [
    "\n",
    "## Conclusions\n",
    "Initial exploration says that while Medicare spends twice as much for **opioid medications** (approx **8 Bill** vs 4 Bill), Medicare's cost burden of low income beneficiaries is higher for individuals with **diabetes**, than opioids (approx **60 Mill** vs 50 Mill).\n",
    "\n",
    "The cost per prescription is also higher for patients with **diabetes** medications than opioid medications (234 vs 47 dollars/30 day prescription).\n",
    "\n",
    "One finding I found surprising is that a greater percentage of medicare beneficieries who are getting **opioid prescriptions** are also getting **low income subsidies**, as compared to medicare beneficiaries getting diabetes prescriptions (approx **1.4%** of total expenses vs 6%).\n",
    "\n",
    "What is not considered in this analysis is that many individuals with Medicare, are also dually eligible for Medicaid. Diabetes is one of many reasons individuals will recieve disability support; thus, Medicaid is likely to pay even more than Medicare for diabetes medications. This is likely the reasoning behind the earlier noted finding I found surprising. Ideally, one would want to compare the Medicare and Medicaid data together. \n",
    "\n",
    "\n",
    "There is still much more to do with this data, but this proof of concept exploration was useful for determining next steps in this analysis. Further exploration into geographic patterns, individual patient loads, and different subgroups would be recommended. If data were considered for patients younger than 65 (those on Medicare), and who were recieving other forms of healthcare subsidies, such as Medicaid, the results would likely be quite different. \n",
    "\n"
   ]
  },
  {
   "cell_type": "markdown",
   "metadata": {},
   "source": [
    "Sources:\n",
    "\n",
    "1. https://datausa.io/profile/geo/durham-nc/#economy\n",
    "2. http://www.diabetes.org/diabetes-basics/statistics/\n",
    "3. https://www.disability-benefits-help.org/faq/how-much-to-earn-to-qualify\n",
    "4. https://www.cms.gov/Research-Statistics-Data-and-Systems/Research-Statistics-Data-and-Systems.html"
   ]
  }
 ],
 "metadata": {
  "kernelspec": {
   "display_name": "Python 3",
   "language": "python",
   "name": "python3"
  },
  "language_info": {
   "codemirror_mode": {
    "name": "ipython",
    "version": 3
   },
   "file_extension": ".py",
   "mimetype": "text/x-python",
   "name": "python",
   "nbconvert_exporter": "python",
   "pygments_lexer": "ipython3",
   "version": "3.7.0"
  }
 },
 "nbformat": 4,
 "nbformat_minor": 2
}
