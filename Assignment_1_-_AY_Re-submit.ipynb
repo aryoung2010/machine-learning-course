{
 "cells": [
  {
   "cell_type": "markdown",
   "metadata": {},
   "source": [
    "# Assignment 1 - Probability, Linear Algebra, Programming, and Git\n",
    "\n",
    "## *Allison R. Young*\n",
    "Netid:  *ary13*"
   ]
  },
  {
   "cell_type": "markdown",
   "metadata": {},
   "source": [
    "# Probability and Statistics Theory"
   ]
  },
  {
   "cell_type": "markdown",
   "metadata": {
    "collapsed": true
   },
   "source": [
    "## 1\n",
    "Let $f(x) = \\begin{cases}\n",
    "                0           & x < 0  \\\\\n",
    "                \\alpha x^2  & 0 \\leq x \\leq 2 \\\\\n",
    "                0           & 2 < x\n",
    "            \\end{cases}$\n",
    "            \n",
    "For what value of $\\alpha$ is $f(x)$ a valid probability density function?\n",
    "\n",
    "*Note: for all assignments, write out all equations and math for all assignments using markdown and [LaTeX](https://tobi.oetiker.ch/lshort/lshort.pdf) and show all work*"
   ]
  },
  {
   "cell_type": "markdown",
   "metadata": {},
   "source": [
    "**ANSWER:**\n",
    "\n",
    "This problem is looking for the constant $ \\alpha $ , that will create a quadratic function, for which the limits are 0 and 2, and the area under the curve is one. To do this, we identify the PDF of the function by setting the integral (area under the curve) to one.\n",
    "\n",
    "Therefore, to find the probability density function, one must integrate the function.\n",
    "$ \\int_0^2\\!\\alpha x^2\\,dx $\n",
    "\n",
    "which integrates to $ \\alpha \\frac{x^3}{3} $ for x from 0 to 2; \n",
    "which is the same as $ \\frac{\\alpha(2)^3}{3} - 0 =1 $\n",
    "which simplifies to  $ \\frac{\\alpha8}{3} = 1 $\n",
    "\n",
    "therefore, $ \\alpha = \\frac{3}{8} or ~ .375 $\n",
    "\n",
    "\n"
   ]
  },
  {
   "cell_type": "markdown",
   "metadata": {},
   "source": [
    "## 2\n",
    "What is the cumulative distribution function (CDF) that corresponds to the following probability distribution function? Please state the value of the CDF for all possible values of $x$.\n",
    "\n",
    "$f(x) = \\begin{cases}\n",
    "    \\frac{1}{3} & 0 < x < 3 \\\\\n",
    "    0           & \\text{otherwise}\n",
    "    \\end{cases}$"
   ]
  },
  {
   "cell_type": "markdown",
   "metadata": {},
   "source": [
    "**ANSWER:**\n",
    "\n",
    "The cumulative distribution function, $F(x)$, of a PDF, $f(x)$, is the integral of the PDF from $0$ to $x$. In this case it's in three parts. For $x\\leq0$, $F(x)=0$; for $(x\\geq3)$, $F(x)=1$. Otherwise, we need to calculate the integral:\n",
    "\n",
    "$$\\int_{0}^{x} \\frac{1}{3} dz = \\frac{1}{3} z \\Big\\lvert_0^x = \\frac{1}{3}x$$\n",
    "\n",
    "Therefore, putting it all together, the CDF is:\n",
    "\n",
    "$$F(x) = \\begin{cases}\n",
    "    0           &     x \\leq 0 \\\\\n",
    "    \\frac{x}{3} & 0 < x < 3 \\\\\n",
    "    1           & x \\geq 3\n",
    "    \\end{cases}$$\n"
   ]
  },
  {
   "cell_type": "markdown",
   "metadata": {},
   "source": [
    "# 3\n",
    "For the probability distribution function for the random variable $X$,\n",
    "\n",
    "$ f(x) = \\begin{cases}\n",
    "    \\frac{1}{3} & 0 < x < 3 \\\\\n",
    "    0           & \\text{otherwise}\n",
    "    \\end{cases}$\n",
    "    \n",
    "what is the (a) expected value and (b) variance of $X$. *Show all work*."
   ]
  },
  {
   "cell_type": "markdown",
   "metadata": {},
   "source": [
    "**Answer:**\n",
    "\n",
    "**(a) Expected value: 1.5**\n",
    "\n",
    "The expected value is the integral of the given PDF. Given the function given here is a constant, the integral would be \n",
    "\n",
    "$ \\frac{1}{3} \\int_0^2\\! f{x} $\n",
    "\n",
    "Thus the problem would look like:\n",
    "\n",
    "$ \\frac{1}{3}  \\frac{(3)^2}{2}$ - $\\frac{1}{3} \\frac{(0)^2}{2} $\n",
    "\n",
    "And simplify to:\n",
    "$ \\frac{9}{6} $ or 1.5 \n",
    "\n",
    "\n",
    "\n",
    "**(b) Variance: 0.75**\n",
    "\n",
    "The Variance is the expected value of $x^2 $minus the expected value of $x$ squared. \n",
    "\n",
    "$E[x^2]- E[x]^2 $\n",
    "\n",
    "Thus, we now take the derivative of the function, and plug in the interval values to get the expected value of $x^2$.\n",
    "\n",
    "In this example, that means, for the expected value of $x^2 (E[x^2]) $ , you would get the following:\n",
    "\n",
    "Again, given the expected value is the integral of the given function and the function given here is a constant, the integral would be \n",
    "\n",
    "$ \\frac{1}{3} \\int_0^2\\! f{x} $\n",
    "\n",
    "The expected value of $x^2$ would thus be $ \\frac{1}{3} {x^3}$ from 0 to 3.\n",
    "\n",
    "Calculating from 0 to 3, you would plug in as follows:\n",
    "$ \\frac{1}{3}* \\frac{1}{3} 3^3 - \\frac{1}{3} * \\frac{1}{3} 0^3 $\n",
    "which simplifies to:\n",
    "$\\frac{1}{9} * 27 = 3 $\n",
    "\n",
    "Therefore Variance, given expected value from the last question, would be:\n",
    "\n",
    "$ var = 3-(1.5)^2 $ \n",
    "\n",
    "$ 3-2.25 = .75$\n",
    "\n",
    "**Variance = 0.75**\n",
    "\n",
    "Below is a calculation using Python:\n"
   ]
  },
  {
   "cell_type": "code",
   "execution_count": 1,
   "metadata": {},
   "outputs": [
    {
     "name": "stdout",
     "output_type": "stream",
     "text": [
      "0.75\n"
     ]
    }
   ],
   "source": [
    "# python \"by hand\"\n",
    "\n",
    "#Mean of the uniform distribution\n",
    "#def MeanUniform( a,b ):\n",
    " #   mean=(b+a)/2\n",
    "  #  return mean\n",
    "\n",
    "#Variance of the uniform distribution\n",
    "def VarianceUniform( a,b ):    \n",
    "    Var=((b-a)**2)/12\n",
    "    return Var\n",
    "\n",
    "\n",
    "\n",
    "#print (MeanUniform( 0,3, ,(1/3) )) #1.5, correct\n",
    "print (VarianceUniform( 0,3))"
   ]
  },
  {
   "cell_type": "markdown",
   "metadata": {},
   "source": [
    "## 4\n",
    "Consider the following table of data that provides the values of a discrete data vector $\\mathbf{x}$ of samples from the random variable $X$, where each entry in $\\mathbf{x}$ is given as $x_i$.\n",
    "\n",
    "*Table 1. Dataset N=5 observations*\n",
    "\n",
    "|        | $x_0$ | $x_1$ | $x_2$ | $x_3$ | $x_4$ |\n",
    "|------  |-------|-------|-------|-------|-------|\n",
    "|$\\textbf{x}$| 2     | 3     | 10    | -1    | -1    |\n",
    "\n",
    "What is the (a) mean, (b) variance, and the  of the data? \n",
    "\n",
    "*Show all work. Your answer should include the definition of mean, median, and variance in the context of discrete data.*"
   ]
  },
  {
   "cell_type": "markdown",
   "metadata": {},
   "source": [
    "\n",
    "**(a) Mean**\n",
    "\n",
    "The mean of a set of discrete data is the average value of the dataset, represented by the sum of all values divided by the number of values. In this case, the sum is 13 for the 5 values.\n",
    "\n",
    "\n",
    "$ \\frac{13}{5} = 2.6 $\n",
    "\n",
    "**The mean is 2.6.**\n",
    "\n",
    "**(b) Variance**\n",
    "\n",
    "\n",
    "$ Var =  \\frac{81.2}{5}  $\n",
    "\n",
    "$Var = 16.24 $\n",
    "\n",
    "**The variance is ~ 16.24.**\n",
    "\n",
    "\n",
    "(c) Median\n",
    "The median of a set of discrete data is the value of the data point that falls in the center of the ordered points, or the average of the middle two ordered points, should the dataset have an even number of values.\n",
    "\n",
    "10, 3, 2, -1 -1\n",
    "\n",
    "**The median is 2.**\n",
    "\n",
    "\n",
    "## 5\n",
    "Review of counting from probability theory. \n",
    "\n",
    "(a) How many different 7-place license plates are possible if the first 3 places only contain letters and the last 4 only contain numbers?\n",
    "\n",
    "(b) How many different batting orders are possible for a baseball team with 9 players?\n",
    "\n",
    "(c) How many batting orders of 5 players are possible for a team with 9 players total?\n",
    "\n",
    "(d) Let's assume this class has 26 students and we want to form project teams. How many unique teams of 3 are possible?\n",
    "\n",
    "*Hint: For each problem, determine if order matters, and if it should be calculated with or without replacement.*"
   ]
  },
  {
   "cell_type": "markdown",
   "metadata": {},
   "source": [
    "## Probability\n",
    "\n",
    "**(a)**\n",
    "\n",
    "$ 26^3 * 10^4 $\n",
    "\n",
    "**175,760,000**\n",
    "\n",
    "\n",
    "**(b)**\n",
    "\n",
    "$ n! $\n",
    "\n",
    "$ 9! $\n",
    "\n",
    "**362,880**\n",
    "\n",
    "**(c)**\n",
    "\n",
    "$ \\frac{n!}{(n-k)!} $\n",
    "\n",
    "$\\frac{9!}{(9-5)!}$\n",
    "\n",
    "**15,120**\n",
    "\n",
    "**(d)**\n",
    "\n",
    "26 choose 3\n",
    "\n",
    "$\\frac{n!}{k!(n-k)!} $\n",
    "\n",
    "$ \\frac{26!}{3!(23!)} $\n",
    "\n",
    "**2,600**"
   ]
  },
  {
   "cell_type": "markdown",
   "metadata": {},
   "source": [
    "# Linear Algebra"
   ]
  },
  {
   "cell_type": "markdown",
   "metadata": {},
   "source": [
    "## 6\n",
    "**Matrix manipulations and multiplication**. Machine learning involves working with many matrices, so this exercise will provide you with the opportunity to practice those skills.\n",
    "\n",
    "Let\n",
    "$\\mathbf{A} =  \\begin{bmatrix}\n",
    "1 & 2 & 3 \\\\\n",
    "2 & 4 & 5 \\\\\n",
    "3 & 5 & 6 \n",
    "\\end{bmatrix}$, $\\mathbf{b} =  \\begin{bmatrix}\n",
    "-1  \\\\\n",
    "3  \\\\\n",
    "8  \n",
    "\\end{bmatrix}$, $\\mathbf{c} =  \\begin{bmatrix}\n",
    "4  \\\\\n",
    "-3  \\\\\n",
    "6  \n",
    "\\end{bmatrix}$, and $\\mathbf{I} =  \\begin{bmatrix}\n",
    "1 & 0 & 0 \\\\\n",
    "0 & 1 & 0 \\\\\n",
    "0 & 0 & 1 \n",
    "\\end{bmatrix}$\n",
    "\n",
    "Compute the following or indicate that it cannot be computed:\n",
    "\n",
    "1. $\\mathbf{A}\\mathbf{A}$\n",
    "2. $\\mathbf{A}\\mathbf{A}^T$\n",
    "3. $\\mathbf{A}\\mathbf{b}$\n",
    "4. $\\mathbf{A}\\mathbf{b}^T$\n",
    "5. $\\mathbf{b}\\mathbf{A}$\n",
    "6. $\\mathbf{b}^T\\mathbf{A}$\n",
    "7. $\\mathbf{b}\\mathbf{b}$\n",
    "8. $\\mathbf{b}^T\\mathbf{b}$\n",
    "9. $\\mathbf{b}\\mathbf{b}^T$\n",
    "10. $\\mathbf{b} + \\mathbf{c}^T$\n",
    "11. $\\mathbf{b}^T\\mathbf{b}^T$\n",
    "12. $\\mathbf{A}^{-1}\\mathbf{b}$\n",
    "13. $\\mathbf{A}\\circ\\mathbf{A}$\n",
    "14. $\\mathbf{b}\\circ\\mathbf{c}$\n",
    "\n",
    "*Note: The element-wise (or Hadamard) product is the product of each element in one matrix with the corresponding element in another matrix, and is represented by the symbol \"$\\circ$\".*"
   ]
  },
  {
   "cell_type": "markdown",
   "metadata": {},
   "source": []
  },
  {
   "cell_type": "code",
   "execution_count": 2,
   "metadata": {},
   "outputs": [
    {
     "name": "stdout",
     "output_type": "stream",
     "text": [
      "[[1 2 3]\n",
      " [2 4 5]\n",
      " [3 5 6]]\n",
      "[[-1]\n",
      " [ 3]\n",
      " [ 8]]\n",
      "[[ 4]\n",
      " [-3]\n",
      " [ 6]]\n",
      "[[1. 0. 0.]\n",
      " [0. 1. 0.]\n",
      " [0. 0. 1.]]\n",
      "\n",
      "1.AA\n",
      "[[14 25 31]\n",
      " [25 45 56]\n",
      " [31 56 70]]\n",
      "\n",
      " 2.AAT\n",
      "[[14 25 31]\n",
      " [25 45 56]\n",
      " [31 56 70]]\n",
      "\n",
      " 3.Ab\n",
      "[[29]\n",
      " [50]\n",
      " [60]]\n",
      "\n",
      " 4.AbT\n",
      "Can not be computed (Shape mismatch)\n",
      "\n",
      " 5.bA\n",
      "Can not be computed (Shape mismatch)\n",
      "\n",
      " 6.bTA\n",
      "[[29 50 60]]\n",
      "\n",
      " 7.bb\n",
      "Can not be computed (Shape mismatch)\n",
      "\n",
      " 8.bTb\n",
      "[[74]]\n",
      "\n",
      " 9.bbT\n",
      "[[ 1 -3 -8]\n",
      " [-3  9 24]\n",
      " [-8 24 64]]\n",
      "\n",
      " 10.b+cT\n",
      "Can not be computed (Shape mismatch)\n",
      "\n",
      " 11.bTbT\n",
      "Can not be computed (Shape mismatch)\n",
      "\n",
      " 12.A−1b\n",
      "[[ 6.]\n",
      " [ 4.]\n",
      " [-5.]]\n",
      "\n",
      " 13.A∘A\n",
      "[[ 1  4  9]\n",
      " [ 4 16 25]\n",
      " [ 9 25 36]]\n",
      "\n",
      " 14.b∘c\n",
      "[[-4]\n",
      " [-9]\n",
      " [48]]\n"
     ]
    }
   ],
   "source": [
    "#Create Arrays and Vectors\n",
    "import numpy as np\n",
    "A = np.array([[1,2,3],\n",
    "    [2,4,5],\n",
    "    [3,5,6]])\n",
    "b = np.array([[-1],\n",
    "            [3],\n",
    "            [8]])\n",
    "c = np.array([[4],\n",
    "            [-3],\n",
    "            [6]])\n",
    "I = np.eye(3)\n",
    "print(A)\n",
    "print (b)\n",
    "print (c)\n",
    "print (I)\n",
    "print()\n",
    "print (\"1.AA\")\n",
    "print(A.dot(A))\n",
    "print(\"\\n 2.AAT\") \n",
    "print(A.dot(A.T))\n",
    "print(\"\\n 3.Ab\")\n",
    "print(A.dot(b))\n",
    "print(\"\\n 4.AbT\")\n",
    "#print(A.dot(b.T))\n",
    "print(\"Can not be computed (Shape mismatch)\")\n",
    "print(\"\\n 5.bA\")\n",
    "#print(b.dot(A))\n",
    "print(\"Can not be computed (Shape mismatch)\")\n",
    "print(\"\\n 6.bTA\")\n",
    "print(b.T.dot(A))\n",
    "print(\"\\n 7.bb\")\n",
    "#print(b.dot(b))\n",
    "print(\"Can not be computed (Shape mismatch)\")\n",
    "print(\"\\n 8.bTb\")\n",
    "print(b.T.dot(b))\n",
    "print(\"\\n 9.bbT\")\n",
    "print(b.dot(b.T))\n",
    "print(\"\\n 10.b+cT\")\n",
    "#print(b+c.T)\n",
    "print(\"Can not be computed (Shape mismatch)\")\n",
    "print(\"\\n 11.bTbT\")\n",
    "#print(b.T.dot(b.T))\n",
    "print(\"Can not be computed (Shape mismatch)\")\n",
    "print(\"\\n 12.A−1b\")\n",
    "print(np.linalg.inv(A).dot(b))\n",
    "print(\"\\n 13.A∘A\")\n",
    "print(np.multiply(A,A))\n",
    "print(\"\\n 14.b∘c\")\n",
    "print(np.multiply(b,c))"
   ]
  },
  {
   "cell_type": "markdown",
   "metadata": {},
   "source": [
    "## 6\n",
    "**Eigenvectors and eigenvalues**. Eigenvectors and eigenvalues are useful for some machine learning algorithms, but the concepts take time to solidly grasp. For an intuitive review of these concepts, explore this [interactive website at Setosa.io](http://setosa.io/ev/eigenvectors-and-eigenvalues/). Also, the series of linear algebra videos by Grant Sanderson of 3Brown1Blue are excellent and can be viewed on youtube [here](https://www.youtube.com/playlist?list=PLZHQObOWTQDPD3MizzM2xVFitgF8hE_ab).\n",
    "\n",
    "1. Calculate the eigenvalues and corresponding eigenvectors of matrix $\\mathbf{A}$ above, from the last question.\n",
    "2. Choose one of the eigenvector/eigenvalue pairs, $\\mathbf{v}$ and $\\lambda$, and show that $\\mathbf{A} \\mathbf{v} = \\lambda \\mathbf{v}$. Also show that this relationship extends to higher orders: $\\mathbf{A} \\mathbf{A} \\mathbf{v} = \\lambda^2 \\mathbf{v}$\n",
    "3. Show that the eigenvectors are orthogonal to one another (e.g. their inner product is zero). This is true for real, symmetric matrices."
   ]
  },
  {
   "cell_type": "markdown",
   "metadata": {},
   "source": [
    "**ANSWER**\n",
    "\n"
   ]
  },
  {
   "cell_type": "markdown",
   "metadata": {},
   "source": [
    "**1.**\n",
    "\n",
    "**Eigenvalues**\n",
    "\n",
    "[11.34481428 -0.51572947  0.17091519]\n",
    "\n",
    "**Eigenvectors**\n",
    "\n",
    "[-0.32798528 -0.73697623  0.59100905]\n",
    "\n",
    "[-0.59100905 -0.32798528 -0.73697623]\n",
    " \n",
    "[-0.73697623  0.59100905  0.32798528]\n",
    "\n",
    "**2.**\n",
    "\n",
    "$ Av = \\lambda v $\n",
    "\n",
    "Using the following eigenvector:\n",
    "\n",
    "[-0.73697623 -0.32798528  0.59100905]\n",
    "\n",
    "And eigen value:\n",
    "\n",
    "-0.5157294715892574\n",
    "\n",
    "We see that \n",
    "\n",
    "$ Av  = [ 0.38008036,  0.16915167, -0.30480078] $\n",
    "\n",
    "AND\n",
    "\n",
    "$ \\lambda v = [ 0.38008036,  0.16915167, -0.30480078] $\n",
    "\n",
    "**Therefore, because the results are the same, this relationship holds true.**\n",
    "\n",
    "Similarly, we see that\n",
    "\n",
    "$ AAv = [-0.19601864, -0.0872365,   0.15719475] $\n",
    "\n",
    "AND \n",
    "\n",
    "$ \\lambda^2 v = [-0.19601864, -0.0872365 ,  0.15719475] $\n",
    "\n",
    "**Therefore, this relationship also holds for higher orders as well.**"
   ]
  },
  {
   "cell_type": "code",
   "execution_count": 3,
   "metadata": {},
   "outputs": [
    {
     "name": "stdout",
     "output_type": "stream",
     "text": [
      "[11.34481428 -0.51572947  0.17091519]\n",
      "[[-0.32798528 -0.73697623  0.59100905]\n",
      " [-0.59100905 -0.32798528 -0.73697623]\n",
      " [-0.73697623  0.59100905  0.32798528]]\n",
      "[-0.73697623 -0.32798528  0.59100905]\n",
      "-0.5157294715892574\n",
      "[ 0.38008036  0.16915167 -0.30480078]\n",
      "[ 0.38008036  0.16915167 -0.30480078]\n",
      "[-0.19601864 -0.0872365   0.15719475]\n",
      "[-0.19601864 -0.0872365   0.15719475]\n"
     ]
    }
   ],
   "source": [
    "import numpy as np\n",
    "from numpy import linalg as LA\n",
    "\n",
    "A = np.array([[1,2,3],\n",
    "    [2,4,5],\n",
    "    [3,5,6]])\n",
    "b = np.array([[-1],\n",
    "            [2],\n",
    "            [3]])\n",
    "c = np.array([[4],\n",
    "            [-3],\n",
    "            [6]])\n",
    "I = np.eye(3)\n",
    "\n",
    "w, v = LA.eig(A)\n",
    "\n",
    "## eigenvalues\n",
    "print (w)\n",
    "\n",
    "##eigenvectors\n",
    "print (v)\n",
    "\n",
    "## selected eiganvector\n",
    "u = v[:,1]\n",
    "print(u)\n",
    "\n",
    "## selected eigenvalue\n",
    "lam = w[1]\n",
    "print(lam)\n",
    "\n",
    "## Av\n",
    "print(np.dot(A,u))\n",
    "\n",
    "## lambd*v\n",
    "\n",
    "print(lam*u)\n",
    "\n",
    "##AAv\n",
    "\n",
    "print(np.dot(np.dot(A,A), u))\n",
    "\n",
    "##lambda^2 * v\n",
    "print(lam**2*u)"
   ]
  },
  {
   "cell_type": "markdown",
   "metadata": {},
   "source": [
    "## 7\n",
    "Speed comparison between vectorized and non-vectorized code. Begin by creating an array of 10 million random numbers using the numpy random.randn module. Compute the sum of the squares first in a for loop, then using Numpy's `dot` module. Time how long it takes to compute each and report the results and report the output. How many times faster is the vectorized code than the for loop approach?\n",
    "\n",
    "*Note: all code should be well commented, properly formatted, and your answers should be output using the `print()` function as follows (where the # represents your answers, to a reasonable precision):\n",
    "\n",
    "`Time [sec] (non-vectorized): ######`\n",
    "\n",
    "`Time [sec] (vectorized):     ######`\n",
    "\n",
    "`The vectorized code is ##### times faster than the vectorized code`"
   ]
  },
  {
   "cell_type": "markdown",
   "metadata": {},
   "source": [
    "**ANSWER**"
   ]
  },
  {
   "cell_type": "code",
   "execution_count": 4,
   "metadata": {},
   "outputs": [
    {
     "name": "stdout",
     "output_type": "stream",
     "text": [
      "Time [sec] (non-vectorized): 6.6582\n",
      "Time [sec] (vectorized):     0.0156\n",
      "The vectorized code is 427.3 times faster than the vectorized code\n"
     ]
    }
   ],
   "source": [
    "import numpy as np\n",
    "import time\n",
    "\n",
    "# Generate the random samples\n",
    "sample = np.random.randn(10000000)\n",
    "#print(\"success\")\n",
    "\n",
    "# Compute the sum of squares the non-vectorized way (using a for loop)\n",
    "start1= time.time()\n",
    "total1= 0\n",
    "for i in range(10000000):\n",
    "    total1 += sample[i]**2\n",
    "end1= time.time()\n",
    "#print(total1)\n",
    "\n",
    "# Compute the sum of squares the vectorized way (using numpy)\n",
    "start2= time.time()\n",
    "total2= np.dot(sample, sample)\n",
    "end2= time.time()\n",
    "#print(total2)\n",
    "\n",
    "# Print the results\n",
    "nonvec = end1-start1\n",
    "vec= end2-start2\n",
    "\n",
    "print('Time [sec] (non-vectorized): {:0.4f}'.format(nonvec))\n",
    "print('Time [sec] (vectorized):     {:0.4f}'.format(vec))\n",
    "print('The vectorized code is {:0.1f} times faster than the vectorized code'.format(nonvec/vec))\n"
   ]
  },
  {
   "cell_type": "markdown",
   "metadata": {},
   "source": [
    "## 8\n",
    "One popular Agile development framework is Scrum (a paradigm recommended for data science projects). It emphasizes the continual evolution of code for projects, becoming progressively better, but starting with a quickly developed minimum viable product. This often means that code written early on is not optimized, and that's a good thing - it's best to get it to work first before optimizing. Imagine that you wrote the following code during a sprint towards getting an end-to-end system working. Vectorize the following code and show the difference in speed between the current implementation and a vectorized version.\n",
    "\n",
    "The function below computes the function $f(x,y) = x^2 - 2 y^2$ and determines whether this quantity is above or below a given threshold, `thresh=0`. This is done for $x,y \\in \\{-4,4\\}$, over a 2,000-by-2,000 grid covering that domain.\n",
    "\n",
    "(a) Vectorize this code and demonstrate (as in the last exercise) the speed increase through vectorization and (b) plot the resulting data - both the function $f(x,y)$ and the thresholded output - using [`imshow`](https://matplotlib.org/api/_as_gen/matplotlib.pyplot.imshow.html?highlight=matplotlib%20pyplot%20imshow#matplotlib.pyplot.imshow) from `matplotlib`.\n",
    "\n",
    "*Hint: look at the `numpy` [`meshgrid`](https://docs.scipy.org/doc/numpy-1.13.0/reference/generated/numpy.meshgrid.html) documentation*"
   ]
  },
  {
   "cell_type": "code",
   "execution_count": 5,
   "metadata": {},
   "outputs": [
    {
     "data": {
      "text/plain": [
       "<Figure size 640x480 with 2 Axes>"
      ]
     },
     "metadata": {},
     "output_type": "display_data"
    },
    {
     "data": {
      "text/plain": [
       "<Figure size 640x480 with 2 Axes>"
      ]
     },
     "metadata": {},
     "output_type": "display_data"
    },
    {
     "name": "stdout",
     "output_type": "stream",
     "text": [
      "Time [sec] (non-vectorized): 2.6314\n",
      "Time [sec] (vectorized):     0.1072\n",
      "The vectorized code is 24.5 times faster than the vectorized code\n"
     ]
    }
   ],
   "source": [
    "import numpy as np\n",
    "import time\n",
    "import matplotlib.pyplot as plt\n",
    "from array import array\n",
    "\n",
    "# Initialize variables for this exerise\n",
    "\n",
    "a= -4\n",
    "b = -4\n",
    "k = 2000\n",
    "step = 8/2000\n",
    "thresh= 0 \n",
    "\n",
    "x = []\n",
    "y = []\n",
    "\n",
    "thresh= 0\n",
    "\n",
    "Ax = array('i')\n",
    "Ay = array('i')\n",
    "\n",
    "########### Random position (i,j)\n",
    "\n",
    "#we chose one index randomly\n",
    "i = np.random.randint(k)\n",
    "j = np.random.randint(k)\n",
    "\n",
    "########## Array Function (non vec)\n",
    "def matrixfunc(k,a,b):\n",
    "    A = []\n",
    "    for m in range(k):\n",
    "        # create a new row \n",
    "        row = []               \n",
    "        for n in range(k):\n",
    "            row.append(a**2 - (2*b**2))\n",
    "            a += step\n",
    "        b += step\n",
    "    A.append(row)\n",
    "    return A\n",
    "\n",
    "\n",
    "########## THRESHOLD\n",
    "\n",
    "def threshfunc(i,j):\n",
    "    ans= i**2 - (2*j**2)\n",
    "    if ans > thresh:\n",
    "        print (\"Output is above the threshold.\")\n",
    "    elif ans == thresh:\n",
    "        print (\"Output is equal to zero.\")\n",
    "    else: \n",
    "        print (\"Output is less than the threshold.\")\n",
    "    print (\"Output of function:\", ans)\n",
    "    pass\n",
    "\n",
    "\n",
    "\n",
    "# Nonvectorized implementation\n",
    "\n",
    "\n",
    "start1 = time.time()\n",
    "\n",
    "matrixfunc(k, a, b)\n",
    "#threshfunc(i,j)\n",
    "\n",
    "end1 = time.time()\n",
    "\n",
    "# Vectorized implementation\n",
    "\n",
    "start2 = time.time()\n",
    "\n",
    "#we chose one index randomly\n",
    "\n",
    "nx, ny = (2000, 2000)\n",
    "x = np.linspace(-4, 4, nx)\n",
    "y = np.linspace(-4, 4, ny)\n",
    "xx, yy = np.meshgrid(x, y)\n",
    "\n",
    "z = xx**2 - (2*yy**2)\n",
    "z_thresh = z.copy()\n",
    "z_thresh[z_thresh > thresh] =1\n",
    "z_thresh[z_thresh <= thresh] = 0\n",
    "\n",
    "end2 = time.time()\n",
    "#h = plt.contourf(x,y,z)\n",
    "\n",
    "\n",
    "# Plot the function f(x,y)\n",
    "plot1 = plt.imshow(z, extent=(-4,4,-4,4), cmap='RdBu')\n",
    "plt.xlabel('x')\n",
    "plt.ylabel('y')\n",
    "plt.title('$f(x,y) = x^2 - 2 * y^2$')\n",
    "absmax = max([z.max(), abs(z.min())])\n",
    "plt.gcf().colorbar(plot1, label='$f(x,y)$')\n",
    "plot1.set_clim(-absmax,absmax)\n",
    "plt.show()\n",
    "\n",
    "# Plot the thresholded output f(x,y) > 0\n",
    "plot2 = plt.imshow(z_thresh, extent=(-4,4,-4,4), cmap='gray')\n",
    "plt.xlabel('x')\n",
    "plt.ylabel('y')\n",
    "plt.title('$f(x,y) > 0$')\n",
    "plt.gcf().colorbar(plot2, label='$f(x,y)>0$')\n",
    "plt.show()\n",
    "\n",
    "\n",
    "#random_pos = [x[i],y[j]]\n",
    "#print(\"Random Position:\" , random_pos)\n",
    "#print (threshfunc(i,j))\n",
    "\n",
    "# Print the time for each and the speed increase\n",
    "nonvec= end1-start1\n",
    "vec = end2-start2\n",
    "inc = nonvec/vec\n",
    "\n",
    "print('Time [sec] (non-vectorized): {:0.4f}'.format(nonvec))\n",
    "print('Time [sec] (vectorized):     {:0.4f}'.format(vec))\n",
    "print('The vectorized code is {:0.1f} times faster than the vectorized code'.format(inc))\n",
    "\n",
    "# Plot the result\n",
    "plt.show()\n",
    "\n"
   ]
  },
  {
   "cell_type": "markdown",
   "metadata": {},
   "source": [
    "## 9\n",
    "This exercise will walk through some basic numerical programming exercises.\n",
    "1. Synthesize $n=10^4$ normally distributed data points with mean $\\mu=2$ and a standard deviation of $\\sigma=1$. Call these observations from a random variable $X$, and call the vector of observations that you generate, $\\textbf{x}$.\n",
    "2. Calculate the mean and standard deviation of $\\textbf{x}$ to validate (1) and provide the result to a precision of four significant figures.\n",
    "3. Plot a histogram of the data in $\\textbf{x}$ with 30 bins\n",
    "4. What is the 90th percentile of $\\textbf{x}$? The 90th percentile is the value below which 90% of observations can be found.\n",
    "5. What is the 99th percentile of $\\textbf{x}$?\n",
    "6. Now synthesize $n=10^4$ normally distributed data points with mean $\\mu=0$ and a standard deviation of $\\sigma=3$. Call these observations from a random variable $Y$, and call the vector of observations that you generate, $\\textbf{y}$.\n",
    "7. Plot the histogram of the data in $\\textbf{y}$ on a (new) plot with the histogram of $\\textbf{x}$, so that both histograms can be seen and compared.\n",
    "8. Using the observations from $\\textbf{x}$ and $\\textbf{y}$, estimate $E[XY]$"
   ]
  },
  {
   "cell_type": "markdown",
   "metadata": {},
   "source": [
    "**ANSWER**"
   ]
  },
  {
   "cell_type": "code",
   "execution_count": 6,
   "metadata": {},
   "outputs": [
    {
     "name": "stdout",
     "output_type": "stream",
     "text": [
      "1. Create 10,000 Observations ( from X)\n",
      "Examples from x: [1.41137662 2.65489597 3.60265447 2.55125983 2.20588145]\n",
      "\n",
      "\n",
      "2. \n",
      " Standard Deviation: 1.0018\n",
      "   x_mean = 2.007\n",
      "\n",
      "\n",
      "3. Plot of Histogram of x, 30 Bins\n"
     ]
    },
    {
     "data": {
      "image/png": "[encoded data removed]",
      "text/plain": [
       "<Figure size 432x288 with 1 Axes>"
      ]
     },
     "metadata": {
      "needs_background": "light"
     },
     "output_type": "display_data"
    },
    {
     "name": "stdout",
     "output_type": "stream",
     "text": [
      "\n",
      "\n",
      "4. 90th Percentile of x: 3.3150\n",
      "5. 99th Percentile of x: 4.2994\n",
      "6. Create 10,000 Observations (from Y)\n",
      "Examples from y: [-5.24929642  1.02804121  3.45910741 -0.75730811  2.94396236]\n",
      "7. Plot of Histogram of x and y, 30 Bins\n"
     ]
    },
    {
     "data": {
      "image/png": "[encoded data removed]",
      "text/plain": [
       "<Figure size 432x288 with 1 Axes>"
      ]
     },
     "metadata": {
      "needs_background": "light"
     },
     "output_type": "display_data"
    },
    {
     "name": "stdout",
     "output_type": "stream",
     "text": [
      "\n",
      "\n",
      "\n",
      "8.)\n",
      "E[XY] = E[X]E[Y] = 0.006931\n"
     ]
    }
   ],
   "source": [
    "import scipy.stats as ss\n",
    "from scipy.stats import uniform\n",
    "import seaborn as sns, numpy as np\n",
    "import matplotlib.pyplot as plt\n",
    "\n",
    "## 1\n",
    "mu, sigma = 2, 1 # mean and standard deviation\n",
    "np.random.RandomState(13)\n",
    "x = np.random.normal(mu, sigma, 10000)\n",
    "print (\"1. Create 10,000 Observations ( from X)\")\n",
    "#plt.plot(x)\n",
    "#plt.show()\n",
    "## Plotted set of random numbers\n",
    "print('Examples from x: {}'.format(x[0:5]))\n",
    "\n",
    "## 2 \n",
    "print(\"\\n\")\n",
    "print ('2. \\n Standard Deviation: {0:1.4f}'.format(x.std()) ) ## Standard deviation is extremely close to 1\n",
    "print('   x_mean = {:.4}'.format(x.mean()))\n",
    "##1.0051944906813324 (was the std when I ran it)\n",
    "\n",
    "##3\n",
    "print(\"\\n\")\n",
    "print (\"3. Plot of Histogram of x, 30 Bins\")\n",
    "plt.xlabel('x')\n",
    "plt.ylabel('y')\n",
    "plt.title('Histogram of X, Bins=30')\n",
    "plt.hist(x, bins=30)\n",
    "plt.show()\n",
    "\n",
    "##4\n",
    "print(\"\\n\")\n",
    "print(\"4. 90th Percentile of x: {0:1.4f}\".format(np.percentile(x,90)))\n",
    "\n",
    "##5\n",
    "print(\"5. 99th Percentile of x: {0:1.4f}\".format(np.percentile(x,99)))\n",
    "\n",
    "## 6\n",
    "mu, sigma = 0, 3 # mean and standard deviation\n",
    "np.random.seed(100)\n",
    "y = 3*np.random.randn(10000)\n",
    "print (\"6. Create 10,000 Observations (from Y)\")\n",
    "print('Examples from y: {}'.format(y[0:5]))\n",
    "#plt.plot(y)\n",
    "#plt.show()\n",
    "## Plotted set of random numbers\n",
    "\n",
    "##7\n",
    "print(\"7. Plot of Histogram of x and y, 30 Bins\")\n",
    "plt.xlabel('x')\n",
    "plt.ylabel('y')\n",
    "plt.title('Histogram of X and y, Bins=30')\n",
    "histx, binsx = np.histogram(x, bins=30)\n",
    "histy, binsy = np.histogram(y, bins=30)\n",
    "centerx = (binsx[:-1] + binsx[1:]) / 2\n",
    "centery = (binsy[:-1] + binsy[1:]) / 2\n",
    "plt.plot(centerx,histx,'r-',label='x')\n",
    "plt.plot(centery,histx,'b-',label='y')\n",
    "_, bins, _ = plt.hist(x, bins=30, density=True)\n",
    "_ = plt.hist(y, bins=bins, alpha=0.5, density=True)\n",
    "plt.xlabel('Values')\n",
    "plt.ylabel('Number of samples')\n",
    "plt.show()\n",
    "\n",
    "\n",
    "## 8\n",
    "print(\"\\n\")\n",
    "# Since X and Y are independent, this is very simple: E[XY] = E[X]E[Y]\n",
    "print('\\n8.)')\n",
    "print('E[XY] = E[X]E[Y] = {:.4}'.format(x.mean() * y.mean()))\n",
    "\n",
    "#values, bins, _ = plt.hist(x, normed=True)\n",
    "#areax = sum(np.diff(bins)*values)\n",
    "\n",
    "##values, bins, _ = plt.hist(x, normed=True)\n",
    "#areay = sum(np.diff(bins)*values)\n",
    "\n"
   ]
  },
  {
   "cell_type": "markdown",
   "metadata": {},
   "source": [
    "## 10\n",
    "Estimate the integral of the function $f(x)$ on the interval $0\\leq x < 2.5$ assuming we only know the following points from $f$:\n",
    "\n",
    "*Table 1. Dataset containing n=5 observations*\n",
    "\n",
    "| $x_i$ | 0.0 | 0.5 | 1.0 | 1.5 | 2.0 |\n",
    "|-|-|-|-|-|-|\n",
    "| $y_i$ | 6 | 7 | 8 | 4 | 1 |\n"
   ]
  },
  {
   "cell_type": "markdown",
   "metadata": {},
   "source": [
    "**ANSWER**\n",
    "To estimate the integral of this function over this interval, we can observe the function as a series of bar charts with width .5 and corresponding values (heights) of the points given. \n",
    "\n",
    "Thus, the area (or integral) is equal to the sum of the areas of all of these bars.\n"
   ]
  },
  {
   "cell_type": "code",
   "execution_count": 7,
   "metadata": {},
   "outputs": [
    {
     "name": "stdout",
     "output_type": "stream",
     "text": [
      "The area is:  13.0\n",
      "This is turning curve into discrete values over intervals (like stepping stairs)\n",
      "Alternative Solution\n",
      "The integral of y is: 11.25\n"
     ]
    }
   ],
   "source": [
    "print(\"The area is: \", 6*.5 + 7*.5 + 8*.5+4*.5+ 1*.5 )\n",
    "#13\n",
    "print(\"This is turning curve into discrete values over intervals (like stepping stairs)\")\n",
    "print(\"Alternative Solution\")\n",
    "import numpy as np\n",
    "\n",
    "x = np.array([0,0.5,1.0,1.5,2.0])\n",
    "y = np.array([6,7,8,4,1])\n",
    "\n",
    "# Using a trapezoidal integration approach:\n",
    "y_dif = (y[:-1] + y[1:]) / 2\n",
    "dx = x[1:] - x[:-1]\n",
    "\n",
    "int_y = sum(y_dif * dx )\n",
    "\n",
    "print('The integral of y is: {:.4}'.format(int_y))"
   ]
  },
  {
   "cell_type": "markdown",
   "metadata": {
    "collapsed": true
   },
   "source": [
    "# Version Control via Git"
   ]
  },
  {
   "cell_type": "markdown",
   "metadata": {},
   "source": [
    "## 11\n",
    "Complete the [Atlassian Git tutorial](https://www.atlassian.com/git/tutorials/what-is-version-control), specifically the following sections. Try each concept that's presented. For this tutorial, instead of using BitBucket, use Github. Create a github account here if you don't already have one: https://github.com/\n",
    "1. [What is version control](https://www.atlassian.com/git/tutorials/what-is-version-control)\n",
    "2. [What is Git](https://www.atlassian.com/git/tutorials/what-is-git)\n",
    "3. [Install Git](https://www.atlassian.com/git/tutorials/install-git)\n",
    "4. [Setting up a repository](https://www.atlassian.com/git/tutorials/install-git)\n",
    "5. [Saving changes](https://www.atlassian.com/git/tutorials/saving-changes)\n",
    "6. [Inspecting a repository](https://www.atlassian.com/git/tutorials/inspecting-a-repository)\n",
    "7. [Undoing changes](https://www.atlassian.com/git/tutorials/undoing-changes)\n",
    "8. [Rewriting history](https://www.atlassian.com/git/tutorials/rewriting-history)\n",
    "9. [Syncing](https://www.atlassian.com/git/tutorials/syncing)\n",
    "10. [Making a pull request](https://www.atlassian.com/git/tutorials/making-a-pull-request)\n",
    "11. [Using branches](https://www.atlassian.com/git/tutorials/using-branches)\n",
    "12. [Comparing workflows](https://www.atlassian.com/git/tutorials/comparing-workflows)\n",
    "\n",
    "For your answer, affirm that you either completed the tutorial or have previous experience with all of the concepts above. Do this by typing your name below and selecting the situation that applies from the two options in brackets."
   ]
  },
  {
   "cell_type": "markdown",
   "metadata": {},
   "source": [
    "*I,**Allison R Young**, affirm that I have previous experience that covers the content in this tutorial and have watched the ones relevant to the areas I did not know.*"
   ]
  },
  {
   "cell_type": "markdown",
   "metadata": {},
   "source": [
    "## 12\n",
    "Using Github to create a static HTML website:\n",
    "1. Create a branch in your `machine-learning-course` repo called \"gh-pages\" and checkout that branch (this will provide an example of how to create a simple static website using [Github Pages](https://pages.github.com/))\n",
    "2. Create a file called \"index.html\" with the contents \"Hello World\" and add, commit, and push it to that branch.\n",
    "3. Submit the following: (a) a link to your github repository and (b) a link to your new \"Hello World\" website. The latter should be at the address https://[USERNAME].github.io/ECE590-assignment0 (where [USERNAME] is your github username)."
   ]
  },
  {
   "cell_type": "markdown",
   "metadata": {},
   "source": [
    "**ANSWER**\n",
    "a) https://github.com/aryoung2010/machine-learning-course\n",
    "\n",
    "b) https://aryoung2010.github.io/machine-learning-course/\n"
   ]
  },
  {
   "cell_type": "markdown",
   "metadata": {
    "collapsed": true
   },
   "source": [
    "# Exploratory Data Analysis\n",
    "## 13\n",
    "Here you'll bring together some of the individual skills that you demonstrated above and create a Jupyter notebook based blog post on data analysis.\n",
    "\n",
    "1. Find a dataset that interests you and relates to a question or problem that you find intriguing\n",
    "2. Using a Jupyter notebook, describe the dataset, the source of the data, and the reason the dataset was of interest.\n",
    "3. Check the data and see if they need to be cleaned: are there missing values? Are there clearly erroneous values? Do two tables need to be merged together? Clean the data so it can be visualized.\n",
    "3. Plot the data, demonstrating interesting features that you discover. Are there any relationships between variables that were surprising or patterns that emerged? Please exercise creativity and curiosity in your plots.\n",
    "4. What insights are you able to take away from exploring the data? Is there a reason why analyzing the dataset you chose is particularly interesting or important? Summarize this as if your target audience was the readership of a major news organization - boil down your findings in a way that is accessible, but still accurate.\n",
    "5. Create a public repository on your github account titled \"machine-learning-course\". In it, create a readme file that contains the heading \"ECE590: Introductory Machine Learning for Data Science\". Add, commit, and push that Jupyter notebook to the master branch. Provide the link to the that post here."
   ]
  },
  {
   "cell_type": "markdown",
   "metadata": {},
   "source": [
    "**ANSWER**\n",
    "\n",
    "Blog Post Link: https://github.com/aryoung2010/machine-learning-course/blob/master/Assignment%201%2C%20Q13%20Blog%2C%20AY.ipynb\n"
   ]
  }
 ],
 "metadata": {
  "kernelspec": {
   "display_name": "Python 3",
   "language": "python",
   "name": "python3"
  },
  "language_info": {
   "codemirror_mode": {
    "name": "ipython",
    "version": 3
   },
   "file_extension": ".py",
   "mimetype": "text/x-python",
   "name": "python",
   "nbconvert_exporter": "python",
   "pygments_lexer": "ipython3",
   "version": "3.7.0"
  }
 },
 "nbformat": 4,
 "nbformat_minor": 2
}
